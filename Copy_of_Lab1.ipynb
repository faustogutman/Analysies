{
  "cells": [
    {
      "cell_type": "markdown",
      "metadata": {
        "id": "view-in-github",
        "colab_type": "text"
      },
      "source": [
        "<a href=\"https://colab.research.google.com/github/faustogutman/Analysies/blob/main/Copy_of_Lab1.ipynb\" target=\"_parent\"><img src=\"https://colab.research.google.com/assets/colab-badge.svg\" alt=\"Open In Colab\"/></a>"
      ]
    },
    {
      "cell_type": "markdown",
      "metadata": {
        "id": "XuXWJLEm2UWS"
      },
      "source": [
        "# **AI - Lab 1**\n",
        "\n",
        "**Graph Neural Networks**\n",
        "\n",
        "https://pytorch-geometric.readthedocs.io/en/latest/notes/introduction.html"
      ]
    },
    {
      "cell_type": "markdown",
      "metadata": {
        "id": "8gzsP50bF6Gb"
      },
      "source": [
        "We will use graph neural network using PyTorch Geometric (PyG) and apply it to 2 graphs.\n",
        "\n",
        "We will evaluate our model on predicting the properties of single nodes.\n",
        "\n",
        "The steps we will learn in this class:\n",
        "\n",
        "1. Store graphs as PyTorch tensors in PyG.\n",
        "2. Load and inspect one of the Open Graph Benchmark (OGB) datasets by using the `ogb` package (a collection of datasets for machine learning on graphs).\n",
        "3. Build, train, and evaluate a GNN model on the OGB node property prediction using PyG.\n",
        "\n",
        "\n",
        "Set a GPU to run quickly by clicking `Runtime` --> `Change runtime type`--> `hardware accelerator` **GPU**."
      ]
    },
    {
      "cell_type": "markdown",
      "metadata": {
        "id": "YKS-IfYxstXh"
      },
      "source": [
        "## Run on google colab servers"
      ]
    },
    {
      "cell_type": "markdown",
      "metadata": {
        "id": "OCK7krJdp4o8"
      },
      "source": [
        "Check PyTorch version"
      ]
    },
    {
      "cell_type": "code",
      "execution_count": 4,
      "metadata": {
        "colab": {
          "base_uri": "https://localhost:8080/"
        },
        "id": "AdaPJISMpQsq",
        "outputId": "0a69fe8f-70c8-47bd-9513-4ff1fe51b1d9"
      },
      "outputs": [
        {
          "output_type": "stream",
          "name": "stdout",
          "text": [
            "Looking in indexes: https://pypi.org/simple, https://us-python.pkg.dev/colab-wheels/public/simple/\n",
            "Requirement already satisfied: sentence-transformers in /usr/local/lib/python3.7/dist-packages (2.2.2)\n",
            "Requirement already satisfied: nltk in /usr/local/lib/python3.7/dist-packages (from sentence-transformers) (3.7)\n",
            "Requirement already satisfied: scikit-learn in /usr/local/lib/python3.7/dist-packages (from sentence-transformers) (1.0.2)\n",
            "Requirement already satisfied: tqdm in /usr/local/lib/python3.7/dist-packages (from sentence-transformers) (4.64.0)\n",
            "Requirement already satisfied: huggingface-hub>=0.4.0 in /usr/local/lib/python3.7/dist-packages (from sentence-transformers) (0.8.1)\n",
            "Requirement already satisfied: transformers<5.0.0,>=4.6.0 in /usr/local/lib/python3.7/dist-packages (from sentence-transformers) (4.20.1)\n",
            "Requirement already satisfied: numpy in /usr/local/lib/python3.7/dist-packages (from sentence-transformers) (1.21.6)\n",
            "Requirement already satisfied: torch>=1.6.0 in /usr/local/lib/python3.7/dist-packages (from sentence-transformers) (1.12.0+cu113)\n",
            "Requirement already satisfied: sentencepiece in /usr/local/lib/python3.7/dist-packages (from sentence-transformers) (0.1.96)\n",
            "Requirement already satisfied: scipy in /usr/local/lib/python3.7/dist-packages (from sentence-transformers) (1.7.3)\n",
            "Requirement already satisfied: torchvision in /usr/local/lib/python3.7/dist-packages (from sentence-transformers) (0.13.0+cu113)\n",
            "Requirement already satisfied: importlib-metadata in /usr/local/lib/python3.7/dist-packages (from huggingface-hub>=0.4.0->sentence-transformers) (4.12.0)\n",
            "Requirement already satisfied: pyyaml>=5.1 in /usr/local/lib/python3.7/dist-packages (from huggingface-hub>=0.4.0->sentence-transformers) (6.0)\n",
            "Requirement already satisfied: packaging>=20.9 in /usr/local/lib/python3.7/dist-packages (from huggingface-hub>=0.4.0->sentence-transformers) (21.3)\n",
            "Requirement already satisfied: filelock in /usr/local/lib/python3.7/dist-packages (from huggingface-hub>=0.4.0->sentence-transformers) (3.7.1)\n",
            "Requirement already satisfied: typing-extensions>=3.7.4.3 in /usr/local/lib/python3.7/dist-packages (from huggingface-hub>=0.4.0->sentence-transformers) (4.1.1)\n",
            "Requirement already satisfied: requests in /usr/local/lib/python3.7/dist-packages (from huggingface-hub>=0.4.0->sentence-transformers) (2.23.0)\n",
            "Requirement already satisfied: pyparsing!=3.0.5,>=2.0.2 in /usr/local/lib/python3.7/dist-packages (from packaging>=20.9->huggingface-hub>=0.4.0->sentence-transformers) (3.0.9)\n",
            "Requirement already satisfied: tokenizers!=0.11.3,<0.13,>=0.11.1 in /usr/local/lib/python3.7/dist-packages (from transformers<5.0.0,>=4.6.0->sentence-transformers) (0.12.1)\n",
            "Requirement already satisfied: regex!=2019.12.17 in /usr/local/lib/python3.7/dist-packages (from transformers<5.0.0,>=4.6.0->sentence-transformers) (2022.6.2)\n",
            "Requirement already satisfied: zipp>=0.5 in /usr/local/lib/python3.7/dist-packages (from importlib-metadata->huggingface-hub>=0.4.0->sentence-transformers) (3.8.0)\n",
            "Requirement already satisfied: click in /usr/local/lib/python3.7/dist-packages (from nltk->sentence-transformers) (7.1.2)\n",
            "Requirement already satisfied: joblib in /usr/local/lib/python3.7/dist-packages (from nltk->sentence-transformers) (1.1.0)\n",
            "Requirement already satisfied: chardet<4,>=3.0.2 in /usr/local/lib/python3.7/dist-packages (from requests->huggingface-hub>=0.4.0->sentence-transformers) (3.0.4)\n",
            "Requirement already satisfied: urllib3!=1.25.0,!=1.25.1,<1.26,>=1.21.1 in /usr/local/lib/python3.7/dist-packages (from requests->huggingface-hub>=0.4.0->sentence-transformers) (1.24.3)\n",
            "Requirement already satisfied: idna<3,>=2.5 in /usr/local/lib/python3.7/dist-packages (from requests->huggingface-hub>=0.4.0->sentence-transformers) (2.10)\n",
            "Requirement already satisfied: certifi>=2017.4.17 in /usr/local/lib/python3.7/dist-packages (from requests->huggingface-hub>=0.4.0->sentence-transformers) (2022.6.15)\n",
            "Requirement already satisfied: threadpoolctl>=2.0.0 in /usr/local/lib/python3.7/dist-packages (from scikit-learn->sentence-transformers) (3.1.0)\n",
            "Requirement already satisfied: pillow!=8.3.*,>=5.3.0 in /usr/local/lib/python3.7/dist-packages (from torchvision->sentence-transformers) (7.1.2)\n"
          ]
        }
      ],
      "source": [
        "!pip install sentence-transformers"
      ]
    },
    {
      "cell_type": "code",
      "execution_count": 5,
      "metadata": {
        "colab": {
          "base_uri": "https://localhost:8080/"
        },
        "id": "ccAx02mSfEvz",
        "outputId": "6289b437-25c5-492a-e934-c236da1ad38f"
      },
      "outputs": [
        {
          "output_type": "stream",
          "name": "stdout",
          "text": [
            "1.12.0+cu113\n"
          ]
        }
      ],
      "source": [
        "import os\n",
        "import torch\n",
        "os.environ['TORCH'] = torch.__version__\n",
        "print(torch.__version__)\n",
        "\n",
        "!pip install -q torch-scatter -f https://data.pyg.org/whl/torch-${TORCH}.html\n",
        "!pip install -q torch-sparse -f https://data.pyg.org/whl/torch-${TORCH}.html\n",
        "!pip install -q git+https://github.com/pyg-team/pytorch_geometric.git\n"
      ]
    },
    {
      "cell_type": "markdown",
      "metadata": {
        "id": "Nwwq0nSdmsOL"
      },
      "source": [
        "## PyTorch Geometric (PyG)\n"
      ]
    },
    {
      "cell_type": "markdown",
      "metadata": {
        "id": "Sf7vUmdNKCjA"
      },
      "source": [
        "A graph in PyG is described by an instance of ``torch_geometric.data.Data``, which holds the following attributes:\n",
        "\n",
        "``data.x``: Node feature matrix with shape ``[num_nodes, num_node_features]``\n",
        "\n",
        "``data.edge_index``: Graph connectivity with shape ``[2, num_edges]`` and type torch.long. This is a transposed edgelist tensor\n",
        "\n",
        "``data.edge_attr``: Edge feature matrix with shape ``[num_edges, num_edge_features]``\n",
        "\n",
        "``data.y``: Target to train against (may have arbitrary shape), e.g., node-level targets of shape ``[num_nodes, *]`` or graph-level targets of shape ``[1, *]``\n",
        "\n",
        "`data.pos`: Node position matrix with shape ``[num_nodes, num_dimensions]``\n",
        "\n",
        "None of these attributes are mandatory."
      ]
    },
    {
      "cell_type": "markdown",
      "metadata": {
        "id": "yuahA4S7s0kp"
      },
      "source": [
        "## Example 1\n",
        "\n",
        "An example of an unweighted and undirected graph with 3 nodes and 4 edges. \n",
        "\n",
        "Each node contains exactly 1 feature."
      ]
    },
    {
      "cell_type": "code",
      "execution_count": 6,
      "metadata": {
        "colab": {
          "base_uri": "https://localhost:8080/"
        },
        "id": "75lVt5tjvR7b",
        "outputId": "9413b6f5-3dae-4ee7-b152-85133bd9ab60"
      },
      "outputs": [
        {
          "output_type": "stream",
          "name": "stdout",
          "text": [
            "Data(x=[3, 1], edge_index=[2, 4])\n"
          ]
        }
      ],
      "source": [
        "import os\n",
        "import torch\n",
        "from torch_geometric.data import Data\n",
        "\n",
        "edge_index = torch.tensor([[0, 1, 1, 2],\n",
        "                           [1, 0, 2, 1]], dtype=torch.long)\n",
        "\n",
        "x = torch.tensor([[-1], [0], [1]], dtype=torch.float)\n",
        "\n",
        "data = Data(x=x, edge_index=edge_index)\n",
        "\n",
        "print(data)"
      ]
    },
    {
      "cell_type": "markdown",
      "metadata": {
        "id": "afSnS3B3vwWt"
      },
      "source": [
        "How you need to define the edge_indices:\n",
        "\n",
        "\n",
        "```\n",
        "df = pd.read_cev('/path/to/atom.csv')\n",
        "\n",
        "# df['from'] and df['to'] are node id\n",
        "\n",
        "edge_index = torch.tensor([df['from'],\n",
        "                           df['to']], dtype=torch.long)\n",
        "\n",
        "edge_index.shape\n",
        "```"
      ]
    },
    {
      "cell_type": "code",
      "execution_count": 9,
      "metadata": {
        "colab": {
          "base_uri": "https://localhost:8080/",
          "height": 424
        },
        "id": "th4pytJj6H-l",
        "outputId": "dea27a63-8fa1-4001-c23e-8f57456fd93c"
      },
      "outputs": [
        {
          "output_type": "execute_result",
          "data": {
            "text/plain": [
              "           atom_id         atom_id2  atom_id_num  atom_id2_num\n",
              "0    i100_02_7_10i  i100_02_7_10_1i     10002710     100027101\n",
              "1     i100_02_7_1i     i100_02_7_2i      1000271       1000272\n",
              "2     i100_02_7_2i     i100_02_7_3i      1000272       1000273\n",
              "3     i100_02_7_2i     i100_02_7_4i      1000272       1000274\n",
              "4     i100_02_7_4i    i100_02_7_10i      1000274      10002710\n",
              "..             ...              ...          ...           ...\n",
              "995  i1162_65_8_5i  i1162_65_8_5_1i     11626585     116265851\n",
              "996  i1162_65_8_5i    i1162_65_8_6i     11626585      11626586\n",
              "997  i1162_65_8_6i    i1162_65_8_7i     11626586      11626587\n",
              "998  i1162_65_8_7i   i1162_65_8_23i     11626587     116265823\n",
              "999  i1162_65_8_7i    i1162_65_8_8i     11626587      11626588\n",
              "\n",
              "[1000 rows x 4 columns]"
            ],
            "text/html": [
              "\n",
              "  <div id=\"df-aff1c084-0d0f-464e-9730-ca3424373aa6\">\n",
              "    <div class=\"colab-df-container\">\n",
              "      <div>\n",
              "<style scoped>\n",
              "    .dataframe tbody tr th:only-of-type {\n",
              "        vertical-align: middle;\n",
              "    }\n",
              "\n",
              "    .dataframe tbody tr th {\n",
              "        vertical-align: top;\n",
              "    }\n",
              "\n",
              "    .dataframe thead th {\n",
              "        text-align: right;\n",
              "    }\n",
              "</style>\n",
              "<table border=\"1\" class=\"dataframe\">\n",
              "  <thead>\n",
              "    <tr style=\"text-align: right;\">\n",
              "      <th></th>\n",
              "      <th>atom_id</th>\n",
              "      <th>atom_id2</th>\n",
              "      <th>atom_id_num</th>\n",
              "      <th>atom_id2_num</th>\n",
              "    </tr>\n",
              "  </thead>\n",
              "  <tbody>\n",
              "    <tr>\n",
              "      <th>0</th>\n",
              "      <td>i100_02_7_10i</td>\n",
              "      <td>i100_02_7_10_1i</td>\n",
              "      <td>10002710</td>\n",
              "      <td>100027101</td>\n",
              "    </tr>\n",
              "    <tr>\n",
              "      <th>1</th>\n",
              "      <td>i100_02_7_1i</td>\n",
              "      <td>i100_02_7_2i</td>\n",
              "      <td>1000271</td>\n",
              "      <td>1000272</td>\n",
              "    </tr>\n",
              "    <tr>\n",
              "      <th>2</th>\n",
              "      <td>i100_02_7_2i</td>\n",
              "      <td>i100_02_7_3i</td>\n",
              "      <td>1000272</td>\n",
              "      <td>1000273</td>\n",
              "    </tr>\n",
              "    <tr>\n",
              "      <th>3</th>\n",
              "      <td>i100_02_7_2i</td>\n",
              "      <td>i100_02_7_4i</td>\n",
              "      <td>1000272</td>\n",
              "      <td>1000274</td>\n",
              "    </tr>\n",
              "    <tr>\n",
              "      <th>4</th>\n",
              "      <td>i100_02_7_4i</td>\n",
              "      <td>i100_02_7_10i</td>\n",
              "      <td>1000274</td>\n",
              "      <td>10002710</td>\n",
              "    </tr>\n",
              "    <tr>\n",
              "      <th>...</th>\n",
              "      <td>...</td>\n",
              "      <td>...</td>\n",
              "      <td>...</td>\n",
              "      <td>...</td>\n",
              "    </tr>\n",
              "    <tr>\n",
              "      <th>995</th>\n",
              "      <td>i1162_65_8_5i</td>\n",
              "      <td>i1162_65_8_5_1i</td>\n",
              "      <td>11626585</td>\n",
              "      <td>116265851</td>\n",
              "    </tr>\n",
              "    <tr>\n",
              "      <th>996</th>\n",
              "      <td>i1162_65_8_5i</td>\n",
              "      <td>i1162_65_8_6i</td>\n",
              "      <td>11626585</td>\n",
              "      <td>11626586</td>\n",
              "    </tr>\n",
              "    <tr>\n",
              "      <th>997</th>\n",
              "      <td>i1162_65_8_6i</td>\n",
              "      <td>i1162_65_8_7i</td>\n",
              "      <td>11626586</td>\n",
              "      <td>11626587</td>\n",
              "    </tr>\n",
              "    <tr>\n",
              "      <th>998</th>\n",
              "      <td>i1162_65_8_7i</td>\n",
              "      <td>i1162_65_8_23i</td>\n",
              "      <td>11626587</td>\n",
              "      <td>116265823</td>\n",
              "    </tr>\n",
              "    <tr>\n",
              "      <th>999</th>\n",
              "      <td>i1162_65_8_7i</td>\n",
              "      <td>i1162_65_8_8i</td>\n",
              "      <td>11626587</td>\n",
              "      <td>11626588</td>\n",
              "    </tr>\n",
              "  </tbody>\n",
              "</table>\n",
              "<p>1000 rows × 4 columns</p>\n",
              "</div>\n",
              "      <button class=\"colab-df-convert\" onclick=\"convertToInteractive('df-aff1c084-0d0f-464e-9730-ca3424373aa6')\"\n",
              "              title=\"Convert this dataframe to an interactive table.\"\n",
              "              style=\"display:none;\">\n",
              "        \n",
              "  <svg xmlns=\"http://www.w3.org/2000/svg\" height=\"24px\"viewBox=\"0 0 24 24\"\n",
              "       width=\"24px\">\n",
              "    <path d=\"M0 0h24v24H0V0z\" fill=\"none\"/>\n",
              "    <path d=\"M18.56 5.44l.94 2.06.94-2.06 2.06-.94-2.06-.94-.94-2.06-.94 2.06-2.06.94zm-11 1L8.5 8.5l.94-2.06 2.06-.94-2.06-.94L8.5 2.5l-.94 2.06-2.06.94zm10 10l.94 2.06.94-2.06 2.06-.94-2.06-.94-.94-2.06-.94 2.06-2.06.94z\"/><path d=\"M17.41 7.96l-1.37-1.37c-.4-.4-.92-.59-1.43-.59-.52 0-1.04.2-1.43.59L10.3 9.45l-7.72 7.72c-.78.78-.78 2.05 0 2.83L4 21.41c.39.39.9.59 1.41.59.51 0 1.02-.2 1.41-.59l7.78-7.78 2.81-2.81c.8-.78.8-2.07 0-2.86zM5.41 20L4 18.59l7.72-7.72 1.47 1.35L5.41 20z\"/>\n",
              "  </svg>\n",
              "      </button>\n",
              "      \n",
              "  <style>\n",
              "    .colab-df-container {\n",
              "      display:flex;\n",
              "      flex-wrap:wrap;\n",
              "      gap: 12px;\n",
              "    }\n",
              "\n",
              "    .colab-df-convert {\n",
              "      background-color: #E8F0FE;\n",
              "      border: none;\n",
              "      border-radius: 50%;\n",
              "      cursor: pointer;\n",
              "      display: none;\n",
              "      fill: #1967D2;\n",
              "      height: 32px;\n",
              "      padding: 0 0 0 0;\n",
              "      width: 32px;\n",
              "    }\n",
              "\n",
              "    .colab-df-convert:hover {\n",
              "      background-color: #E2EBFA;\n",
              "      box-shadow: 0px 1px 2px rgba(60, 64, 67, 0.3), 0px 1px 3px 1px rgba(60, 64, 67, 0.15);\n",
              "      fill: #174EA6;\n",
              "    }\n",
              "\n",
              "    [theme=dark] .colab-df-convert {\n",
              "      background-color: #3B4455;\n",
              "      fill: #D2E3FC;\n",
              "    }\n",
              "\n",
              "    [theme=dark] .colab-df-convert:hover {\n",
              "      background-color: #434B5C;\n",
              "      box-shadow: 0px 1px 3px 1px rgba(0, 0, 0, 0.15);\n",
              "      filter: drop-shadow(0px 1px 2px rgba(0, 0, 0, 0.3));\n",
              "      fill: #FFFFFF;\n",
              "    }\n",
              "  </style>\n",
              "\n",
              "      <script>\n",
              "        const buttonEl =\n",
              "          document.querySelector('#df-aff1c084-0d0f-464e-9730-ca3424373aa6 button.colab-df-convert');\n",
              "        buttonEl.style.display =\n",
              "          google.colab.kernel.accessAllowed ? 'block' : 'none';\n",
              "\n",
              "        async function convertToInteractive(key) {\n",
              "          const element = document.querySelector('#df-aff1c084-0d0f-464e-9730-ca3424373aa6');\n",
              "          const dataTable =\n",
              "            await google.colab.kernel.invokeFunction('convertToInteractive',\n",
              "                                                     [key], {});\n",
              "          if (!dataTable) return;\n",
              "\n",
              "          const docLinkHtml = 'Like what you see? Visit the ' +\n",
              "            '<a target=\"_blank\" href=https://colab.research.google.com/notebooks/data_table.ipynb>data table notebook</a>'\n",
              "            + ' to learn more about interactive tables.';\n",
              "          element.innerHTML = '';\n",
              "          dataTable['output_type'] = 'display_data';\n",
              "          await google.colab.output.renderOutput(dataTable, element);\n",
              "          const docLink = document.createElement('div');\n",
              "          docLink.innerHTML = docLinkHtml;\n",
              "          element.appendChild(docLink);\n",
              "        }\n",
              "      </script>\n",
              "    </div>\n",
              "  </div>\n",
              "  "
            ]
          },
          "metadata": {},
          "execution_count": 9
        }
      ],
      "source": [
        "import pandas as pd\n",
        "\n",
        "df = pd.read_csv('/content/bond.csv')#/atom.csv/content/bond.csv\n",
        "df=df[['atom_id','atom_id2']]\n",
        "df.sort_values(by='atom_id').head(10)\n",
        "df['atom_id_num']=df['atom_id'].apply(lambda x: int(x.replace('i','').replace('_','')))\n",
        "df['atom_id2_num']=df['atom_id2'].apply(lambda x: int(x.replace('i','').replace('_','')))\n",
        "# df_id = pd.read_csv('/bond_num_id.csv')#/atom.csv\n",
        "df"
      ]
    },
    {
      "cell_type": "code",
      "execution_count": null,
      "metadata": {
        "id": "BV8xJO2CV5xm"
      },
      "outputs": [],
      "source": [
        "\n"
      ]
    },
    {
      "cell_type": "code",
      "execution_count": 10,
      "metadata": {
        "colab": {
          "base_uri": "https://localhost:8080/",
          "height": 424
        },
        "id": "sXpZpDziCH7K",
        "outputId": "723bb940-88ea-4ea8-a3ad-8829fcc85063"
      },
      "outputs": [
        {
          "output_type": "execute_result",
          "data": {
            "text/plain": [
              "             atom_id  molecule_id type  atom_id_num  molecule_id_num\n",
              "0      i100_02_7_10i   i100_02_7i    c     10002710           100027\n",
              "1    i100_02_7_10_1i   i100_02_7i    h    100027101           100027\n",
              "2       i100_02_7_1i   i100_02_7i    o      1000271           100027\n",
              "3       i100_02_7_2i   i100_02_7i    n      1000272           100027\n",
              "4       i100_02_7_3i   i100_02_7i    o      1000273           100027\n",
              "..               ...          ...  ...          ...              ...\n",
              "995   i1162_65_8_20i  i1162_65_8i    o    116265820          1162658\n",
              "996   i1162_65_8_21i  i1162_65_8i    o    116265821          1162658\n",
              "997   i1162_65_8_22i  i1162_65_8i    c    116265822          1162658\n",
              "998   i1162_65_8_23i  i1162_65_8i    c    116265823          1162658\n",
              "999    i1162_65_8_2i  i1162_65_8i    c     11626582          1162658\n",
              "\n",
              "[1000 rows x 5 columns]"
            ],
            "text/html": [
              "\n",
              "  <div id=\"df-7769d400-f850-49f8-9a2b-8d15a970513f\">\n",
              "    <div class=\"colab-df-container\">\n",
              "      <div>\n",
              "<style scoped>\n",
              "    .dataframe tbody tr th:only-of-type {\n",
              "        vertical-align: middle;\n",
              "    }\n",
              "\n",
              "    .dataframe tbody tr th {\n",
              "        vertical-align: top;\n",
              "    }\n",
              "\n",
              "    .dataframe thead th {\n",
              "        text-align: right;\n",
              "    }\n",
              "</style>\n",
              "<table border=\"1\" class=\"dataframe\">\n",
              "  <thead>\n",
              "    <tr style=\"text-align: right;\">\n",
              "      <th></th>\n",
              "      <th>atom_id</th>\n",
              "      <th>molecule_id</th>\n",
              "      <th>type</th>\n",
              "      <th>atom_id_num</th>\n",
              "      <th>molecule_id_num</th>\n",
              "    </tr>\n",
              "  </thead>\n",
              "  <tbody>\n",
              "    <tr>\n",
              "      <th>0</th>\n",
              "      <td>i100_02_7_10i</td>\n",
              "      <td>i100_02_7i</td>\n",
              "      <td>c</td>\n",
              "      <td>10002710</td>\n",
              "      <td>100027</td>\n",
              "    </tr>\n",
              "    <tr>\n",
              "      <th>1</th>\n",
              "      <td>i100_02_7_10_1i</td>\n",
              "      <td>i100_02_7i</td>\n",
              "      <td>h</td>\n",
              "      <td>100027101</td>\n",
              "      <td>100027</td>\n",
              "    </tr>\n",
              "    <tr>\n",
              "      <th>2</th>\n",
              "      <td>i100_02_7_1i</td>\n",
              "      <td>i100_02_7i</td>\n",
              "      <td>o</td>\n",
              "      <td>1000271</td>\n",
              "      <td>100027</td>\n",
              "    </tr>\n",
              "    <tr>\n",
              "      <th>3</th>\n",
              "      <td>i100_02_7_2i</td>\n",
              "      <td>i100_02_7i</td>\n",
              "      <td>n</td>\n",
              "      <td>1000272</td>\n",
              "      <td>100027</td>\n",
              "    </tr>\n",
              "    <tr>\n",
              "      <th>4</th>\n",
              "      <td>i100_02_7_3i</td>\n",
              "      <td>i100_02_7i</td>\n",
              "      <td>o</td>\n",
              "      <td>1000273</td>\n",
              "      <td>100027</td>\n",
              "    </tr>\n",
              "    <tr>\n",
              "      <th>...</th>\n",
              "      <td>...</td>\n",
              "      <td>...</td>\n",
              "      <td>...</td>\n",
              "      <td>...</td>\n",
              "      <td>...</td>\n",
              "    </tr>\n",
              "    <tr>\n",
              "      <th>995</th>\n",
              "      <td>i1162_65_8_20i</td>\n",
              "      <td>i1162_65_8i</td>\n",
              "      <td>o</td>\n",
              "      <td>116265820</td>\n",
              "      <td>1162658</td>\n",
              "    </tr>\n",
              "    <tr>\n",
              "      <th>996</th>\n",
              "      <td>i1162_65_8_21i</td>\n",
              "      <td>i1162_65_8i</td>\n",
              "      <td>o</td>\n",
              "      <td>116265821</td>\n",
              "      <td>1162658</td>\n",
              "    </tr>\n",
              "    <tr>\n",
              "      <th>997</th>\n",
              "      <td>i1162_65_8_22i</td>\n",
              "      <td>i1162_65_8i</td>\n",
              "      <td>c</td>\n",
              "      <td>116265822</td>\n",
              "      <td>1162658</td>\n",
              "    </tr>\n",
              "    <tr>\n",
              "      <th>998</th>\n",
              "      <td>i1162_65_8_23i</td>\n",
              "      <td>i1162_65_8i</td>\n",
              "      <td>c</td>\n",
              "      <td>116265823</td>\n",
              "      <td>1162658</td>\n",
              "    </tr>\n",
              "    <tr>\n",
              "      <th>999</th>\n",
              "      <td>i1162_65_8_2i</td>\n",
              "      <td>i1162_65_8i</td>\n",
              "      <td>c</td>\n",
              "      <td>11626582</td>\n",
              "      <td>1162658</td>\n",
              "    </tr>\n",
              "  </tbody>\n",
              "</table>\n",
              "<p>1000 rows × 5 columns</p>\n",
              "</div>\n",
              "      <button class=\"colab-df-convert\" onclick=\"convertToInteractive('df-7769d400-f850-49f8-9a2b-8d15a970513f')\"\n",
              "              title=\"Convert this dataframe to an interactive table.\"\n",
              "              style=\"display:none;\">\n",
              "        \n",
              "  <svg xmlns=\"http://www.w3.org/2000/svg\" height=\"24px\"viewBox=\"0 0 24 24\"\n",
              "       width=\"24px\">\n",
              "    <path d=\"M0 0h24v24H0V0z\" fill=\"none\"/>\n",
              "    <path d=\"M18.56 5.44l.94 2.06.94-2.06 2.06-.94-2.06-.94-.94-2.06-.94 2.06-2.06.94zm-11 1L8.5 8.5l.94-2.06 2.06-.94-2.06-.94L8.5 2.5l-.94 2.06-2.06.94zm10 10l.94 2.06.94-2.06 2.06-.94-2.06-.94-.94-2.06-.94 2.06-2.06.94z\"/><path d=\"M17.41 7.96l-1.37-1.37c-.4-.4-.92-.59-1.43-.59-.52 0-1.04.2-1.43.59L10.3 9.45l-7.72 7.72c-.78.78-.78 2.05 0 2.83L4 21.41c.39.39.9.59 1.41.59.51 0 1.02-.2 1.41-.59l7.78-7.78 2.81-2.81c.8-.78.8-2.07 0-2.86zM5.41 20L4 18.59l7.72-7.72 1.47 1.35L5.41 20z\"/>\n",
              "  </svg>\n",
              "      </button>\n",
              "      \n",
              "  <style>\n",
              "    .colab-df-container {\n",
              "      display:flex;\n",
              "      flex-wrap:wrap;\n",
              "      gap: 12px;\n",
              "    }\n",
              "\n",
              "    .colab-df-convert {\n",
              "      background-color: #E8F0FE;\n",
              "      border: none;\n",
              "      border-radius: 50%;\n",
              "      cursor: pointer;\n",
              "      display: none;\n",
              "      fill: #1967D2;\n",
              "      height: 32px;\n",
              "      padding: 0 0 0 0;\n",
              "      width: 32px;\n",
              "    }\n",
              "\n",
              "    .colab-df-convert:hover {\n",
              "      background-color: #E2EBFA;\n",
              "      box-shadow: 0px 1px 2px rgba(60, 64, 67, 0.3), 0px 1px 3px 1px rgba(60, 64, 67, 0.15);\n",
              "      fill: #174EA6;\n",
              "    }\n",
              "\n",
              "    [theme=dark] .colab-df-convert {\n",
              "      background-color: #3B4455;\n",
              "      fill: #D2E3FC;\n",
              "    }\n",
              "\n",
              "    [theme=dark] .colab-df-convert:hover {\n",
              "      background-color: #434B5C;\n",
              "      box-shadow: 0px 1px 3px 1px rgba(0, 0, 0, 0.15);\n",
              "      filter: drop-shadow(0px 1px 2px rgba(0, 0, 0, 0.3));\n",
              "      fill: #FFFFFF;\n",
              "    }\n",
              "  </style>\n",
              "\n",
              "      <script>\n",
              "        const buttonEl =\n",
              "          document.querySelector('#df-7769d400-f850-49f8-9a2b-8d15a970513f button.colab-df-convert');\n",
              "        buttonEl.style.display =\n",
              "          google.colab.kernel.accessAllowed ? 'block' : 'none';\n",
              "\n",
              "        async function convertToInteractive(key) {\n",
              "          const element = document.querySelector('#df-7769d400-f850-49f8-9a2b-8d15a970513f');\n",
              "          const dataTable =\n",
              "            await google.colab.kernel.invokeFunction('convertToInteractive',\n",
              "                                                     [key], {});\n",
              "          if (!dataTable) return;\n",
              "\n",
              "          const docLinkHtml = 'Like what you see? Visit the ' +\n",
              "            '<a target=\"_blank\" href=https://colab.research.google.com/notebooks/data_table.ipynb>data table notebook</a>'\n",
              "            + ' to learn more about interactive tables.';\n",
              "          element.innerHTML = '';\n",
              "          dataTable['output_type'] = 'display_data';\n",
              "          await google.colab.output.renderOutput(dataTable, element);\n",
              "          const docLink = document.createElement('div');\n",
              "          docLink.innerHTML = docLinkHtml;\n",
              "          element.appendChild(docLink);\n",
              "        }\n",
              "      </script>\n",
              "    </div>\n",
              "  </div>\n",
              "  "
            ]
          },
          "metadata": {},
          "execution_count": 10
        }
      ],
      "source": [
        "df_x = pd.read_csv('/content/atom.csv')#/atom.csv\n",
        "df_x['atom_id_num']=df_x['atom_id'].apply(lambda x: int(x.replace('i','').replace('_','')))\n",
        "df_x['molecule_id_num']=df_x['molecule_id'].apply(lambda x: int(x.replace('i','').replace('_','')))\n",
        "df_x.head()\n",
        "df_x.shape\n",
        "df_x\n"
      ]
    },
    {
      "cell_type": "code",
      "execution_count": 11,
      "metadata": {
        "colab": {
          "base_uri": "https://localhost:8080/",
          "height": 81
        },
        "id": "gO49h437H6TJ",
        "outputId": "0fa48194-1e5f-4820-df69-6afbe709cab3"
      },
      "outputs": [
        {
          "output_type": "execute_result",
          "data": {
            "text/plain": [
              "         atom_id molecule_id type  atom_id_num  molecule_id_num\n",
              "0  i100_02_7_10i  i100_02_7i    c     10002710           100027"
            ],
            "text/html": [
              "\n",
              "  <div id=\"df-e50e66f9-665b-4eb3-a9ac-8ead9654ef37\">\n",
              "    <div class=\"colab-df-container\">\n",
              "      <div>\n",
              "<style scoped>\n",
              "    .dataframe tbody tr th:only-of-type {\n",
              "        vertical-align: middle;\n",
              "    }\n",
              "\n",
              "    .dataframe tbody tr th {\n",
              "        vertical-align: top;\n",
              "    }\n",
              "\n",
              "    .dataframe thead th {\n",
              "        text-align: right;\n",
              "    }\n",
              "</style>\n",
              "<table border=\"1\" class=\"dataframe\">\n",
              "  <thead>\n",
              "    <tr style=\"text-align: right;\">\n",
              "      <th></th>\n",
              "      <th>atom_id</th>\n",
              "      <th>molecule_id</th>\n",
              "      <th>type</th>\n",
              "      <th>atom_id_num</th>\n",
              "      <th>molecule_id_num</th>\n",
              "    </tr>\n",
              "  </thead>\n",
              "  <tbody>\n",
              "    <tr>\n",
              "      <th>0</th>\n",
              "      <td>i100_02_7_10i</td>\n",
              "      <td>i100_02_7i</td>\n",
              "      <td>c</td>\n",
              "      <td>10002710</td>\n",
              "      <td>100027</td>\n",
              "    </tr>\n",
              "  </tbody>\n",
              "</table>\n",
              "</div>\n",
              "      <button class=\"colab-df-convert\" onclick=\"convertToInteractive('df-e50e66f9-665b-4eb3-a9ac-8ead9654ef37')\"\n",
              "              title=\"Convert this dataframe to an interactive table.\"\n",
              "              style=\"display:none;\">\n",
              "        \n",
              "  <svg xmlns=\"http://www.w3.org/2000/svg\" height=\"24px\"viewBox=\"0 0 24 24\"\n",
              "       width=\"24px\">\n",
              "    <path d=\"M0 0h24v24H0V0z\" fill=\"none\"/>\n",
              "    <path d=\"M18.56 5.44l.94 2.06.94-2.06 2.06-.94-2.06-.94-.94-2.06-.94 2.06-2.06.94zm-11 1L8.5 8.5l.94-2.06 2.06-.94-2.06-.94L8.5 2.5l-.94 2.06-2.06.94zm10 10l.94 2.06.94-2.06 2.06-.94-2.06-.94-.94-2.06-.94 2.06-2.06.94z\"/><path d=\"M17.41 7.96l-1.37-1.37c-.4-.4-.92-.59-1.43-.59-.52 0-1.04.2-1.43.59L10.3 9.45l-7.72 7.72c-.78.78-.78 2.05 0 2.83L4 21.41c.39.39.9.59 1.41.59.51 0 1.02-.2 1.41-.59l7.78-7.78 2.81-2.81c.8-.78.8-2.07 0-2.86zM5.41 20L4 18.59l7.72-7.72 1.47 1.35L5.41 20z\"/>\n",
              "  </svg>\n",
              "      </button>\n",
              "      \n",
              "  <style>\n",
              "    .colab-df-container {\n",
              "      display:flex;\n",
              "      flex-wrap:wrap;\n",
              "      gap: 12px;\n",
              "    }\n",
              "\n",
              "    .colab-df-convert {\n",
              "      background-color: #E8F0FE;\n",
              "      border: none;\n",
              "      border-radius: 50%;\n",
              "      cursor: pointer;\n",
              "      display: none;\n",
              "      fill: #1967D2;\n",
              "      height: 32px;\n",
              "      padding: 0 0 0 0;\n",
              "      width: 32px;\n",
              "    }\n",
              "\n",
              "    .colab-df-convert:hover {\n",
              "      background-color: #E2EBFA;\n",
              "      box-shadow: 0px 1px 2px rgba(60, 64, 67, 0.3), 0px 1px 3px 1px rgba(60, 64, 67, 0.15);\n",
              "      fill: #174EA6;\n",
              "    }\n",
              "\n",
              "    [theme=dark] .colab-df-convert {\n",
              "      background-color: #3B4455;\n",
              "      fill: #D2E3FC;\n",
              "    }\n",
              "\n",
              "    [theme=dark] .colab-df-convert:hover {\n",
              "      background-color: #434B5C;\n",
              "      box-shadow: 0px 1px 3px 1px rgba(0, 0, 0, 0.15);\n",
              "      filter: drop-shadow(0px 1px 2px rgba(0, 0, 0, 0.3));\n",
              "      fill: #FFFFFF;\n",
              "    }\n",
              "  </style>\n",
              "\n",
              "      <script>\n",
              "        const buttonEl =\n",
              "          document.querySelector('#df-e50e66f9-665b-4eb3-a9ac-8ead9654ef37 button.colab-df-convert');\n",
              "        buttonEl.style.display =\n",
              "          google.colab.kernel.accessAllowed ? 'block' : 'none';\n",
              "\n",
              "        async function convertToInteractive(key) {\n",
              "          const element = document.querySelector('#df-e50e66f9-665b-4eb3-a9ac-8ead9654ef37');\n",
              "          const dataTable =\n",
              "            await google.colab.kernel.invokeFunction('convertToInteractive',\n",
              "                                                     [key], {});\n",
              "          if (!dataTable) return;\n",
              "\n",
              "          const docLinkHtml = 'Like what you see? Visit the ' +\n",
              "            '<a target=\"_blank\" href=https://colab.research.google.com/notebooks/data_table.ipynb>data table notebook</a>'\n",
              "            + ' to learn more about interactive tables.';\n",
              "          element.innerHTML = '';\n",
              "          dataTable['output_type'] = 'display_data';\n",
              "          await google.colab.output.renderOutput(dataTable, element);\n",
              "          const docLink = document.createElement('div');\n",
              "          docLink.innerHTML = docLinkHtml;\n",
              "          element.appendChild(docLink);\n",
              "        }\n",
              "      </script>\n",
              "    </div>\n",
              "  </div>\n",
              "  "
            ]
          },
          "metadata": {},
          "execution_count": 11
        }
      ],
      "source": [
        "df_x[df_x['atom_id_num']==10002710]"
      ]
    },
    {
      "cell_type": "code",
      "execution_count": 12,
      "metadata": {
        "colab": {
          "base_uri": "https://localhost:8080/"
        },
        "id": "3ORXE1xu8dvg",
        "outputId": "30aad613-792e-4271-c9b9-7d0465400047"
      },
      "outputs": [
        {
          "output_type": "execute_result",
          "data": {
            "text/plain": [
              "(990,)"
            ]
          },
          "metadata": {},
          "execution_count": 12
        }
      ],
      "source": [
        "df_x['atom_id_num'].drop_duplicates().shape"
      ]
    },
    {
      "cell_type": "code",
      "execution_count": 13,
      "metadata": {
        "colab": {
          "base_uri": "https://localhost:8080/"
        },
        "id": "ng09Rk_G-ldT",
        "outputId": "197b5c2e-979f-4168-f385-1bd4c1b4254a"
      },
      "outputs": [
        {
          "output_type": "execute_result",
          "data": {
            "text/plain": [
              "(462,)"
            ]
          },
          "metadata": {},
          "execution_count": 13
        }
      ],
      "source": [
        "df['atom_id_num'].drop_duplicates().shape"
      ]
    },
    {
      "cell_type": "code",
      "execution_count": 14,
      "metadata": {
        "colab": {
          "base_uri": "https://localhost:8080/"
        },
        "id": "TKbN4h_sE2MF",
        "outputId": "3b41bb23-9a58-4f86-962f-b1f65eb1189d"
      },
      "outputs": [
        {
          "output_type": "execute_result",
          "data": {
            "text/plain": [
              "(940,)"
            ]
          },
          "metadata": {},
          "execution_count": 14
        }
      ],
      "source": [
        "df['atom_id2_num'].drop_duplicates().shape"
      ]
    },
    {
      "cell_type": "code",
      "execution_count": 14,
      "metadata": {
        "id": "5chEc6U-LJED"
      },
      "outputs": [],
      "source": [
        ""
      ]
    },
    {
      "cell_type": "code",
      "execution_count": 15,
      "metadata": {
        "colab": {
          "base_uri": "https://localhost:8080/"
        },
        "id": "i-9YZ8OqLl_V",
        "outputId": "36543868-056f-4dcf-b835-b74f4f662f25"
      },
      "outputs": [
        {
          "output_type": "execute_result",
          "data": {
            "text/plain": [
              "404"
            ]
          },
          "metadata": {},
          "execution_count": 15
        }
      ],
      "source": [
        "# [for i in list(df['atom_id_num'].drop_duplicates()) if  elem in list(df['atom_id_num'].drop_duplicates())]\n",
        "\n",
        "nodes1=[f for f in list(df['atom_id_num'].drop_duplicates()) if f in list(df['atom_id2_num'].drop_duplicates()) ]\n",
        "nodes2=[f for f in list(df['atom_id2_num'].drop_duplicates()) if f in list(df['atom_id_num'].drop_duplicates()) ]\n",
        "len(nodes2)"
      ]
    },
    {
      "cell_type": "code",
      "execution_count": 16,
      "metadata": {
        "colab": {
          "base_uri": "https://localhost:8080/"
        },
        "id": "Zq-47e9jQhRJ",
        "outputId": "1204c051-1d95-4245-be8a-3ded5b50fdf4"
      },
      "outputs": [
        {
          "output_type": "execute_result",
          "data": {
            "text/plain": [
              "True"
            ]
          },
          "metadata": {},
          "execution_count": 16
        }
      ],
      "source": [
        "sum(nodes1)==sum(nodes2)"
      ]
    },
    {
      "cell_type": "code",
      "execution_count": 17,
      "metadata": {
        "colab": {
          "base_uri": "https://localhost:8080/",
          "height": 424
        },
        "id": "IeMBva7GOpey",
        "outputId": "bbdbe249-e528-4a94-c1b1-55fa6894b6e6"
      },
      "outputs": [
        {
          "output_type": "execute_result",
          "data": {
            "text/plain": [
              "            atom_id        atom_id2  atom_id_num  atom_id2_num\n",
              "1      i100_02_7_1i    i100_02_7_2i      1000271       1000272\n",
              "3      i100_02_7_2i    i100_02_7_4i      1000272       1000274\n",
              "4      i100_02_7_4i   i100_02_7_10i      1000274      10002710\n",
              "5      i100_02_7_4i    i100_02_7_5i      1000274       1000275\n",
              "7      i100_02_7_5i    i100_02_7_6i      1000275       1000276\n",
              "..              ...             ...          ...           ...\n",
              "976  i1162_65_8_15i  i1162_65_8_16i    116265815     116265816\n",
              "977  i1162_65_8_15i  i1162_65_8_19i    116265815     116265819\n",
              "979  i1162_65_8_16i  i1162_65_8_18i    116265816     116265818\n",
              "983  i1162_65_8_19i  i1162_65_8_21i    116265819     116265821\n",
              "988  i1162_65_8_21i  i1162_65_8_22i    116265821     116265822\n",
              "\n",
              "[461 rows x 4 columns]"
            ],
            "text/html": [
              "\n",
              "  <div id=\"df-4d1a7438-c263-4bff-9d28-510f9006c755\">\n",
              "    <div class=\"colab-df-container\">\n",
              "      <div>\n",
              "<style scoped>\n",
              "    .dataframe tbody tr th:only-of-type {\n",
              "        vertical-align: middle;\n",
              "    }\n",
              "\n",
              "    .dataframe tbody tr th {\n",
              "        vertical-align: top;\n",
              "    }\n",
              "\n",
              "    .dataframe thead th {\n",
              "        text-align: right;\n",
              "    }\n",
              "</style>\n",
              "<table border=\"1\" class=\"dataframe\">\n",
              "  <thead>\n",
              "    <tr style=\"text-align: right;\">\n",
              "      <th></th>\n",
              "      <th>atom_id</th>\n",
              "      <th>atom_id2</th>\n",
              "      <th>atom_id_num</th>\n",
              "      <th>atom_id2_num</th>\n",
              "    </tr>\n",
              "  </thead>\n",
              "  <tbody>\n",
              "    <tr>\n",
              "      <th>1</th>\n",
              "      <td>i100_02_7_1i</td>\n",
              "      <td>i100_02_7_2i</td>\n",
              "      <td>1000271</td>\n",
              "      <td>1000272</td>\n",
              "    </tr>\n",
              "    <tr>\n",
              "      <th>3</th>\n",
              "      <td>i100_02_7_2i</td>\n",
              "      <td>i100_02_7_4i</td>\n",
              "      <td>1000272</td>\n",
              "      <td>1000274</td>\n",
              "    </tr>\n",
              "    <tr>\n",
              "      <th>4</th>\n",
              "      <td>i100_02_7_4i</td>\n",
              "      <td>i100_02_7_10i</td>\n",
              "      <td>1000274</td>\n",
              "      <td>10002710</td>\n",
              "    </tr>\n",
              "    <tr>\n",
              "      <th>5</th>\n",
              "      <td>i100_02_7_4i</td>\n",
              "      <td>i100_02_7_5i</td>\n",
              "      <td>1000274</td>\n",
              "      <td>1000275</td>\n",
              "    </tr>\n",
              "    <tr>\n",
              "      <th>7</th>\n",
              "      <td>i100_02_7_5i</td>\n",
              "      <td>i100_02_7_6i</td>\n",
              "      <td>1000275</td>\n",
              "      <td>1000276</td>\n",
              "    </tr>\n",
              "    <tr>\n",
              "      <th>...</th>\n",
              "      <td>...</td>\n",
              "      <td>...</td>\n",
              "      <td>...</td>\n",
              "      <td>...</td>\n",
              "    </tr>\n",
              "    <tr>\n",
              "      <th>976</th>\n",
              "      <td>i1162_65_8_15i</td>\n",
              "      <td>i1162_65_8_16i</td>\n",
              "      <td>116265815</td>\n",
              "      <td>116265816</td>\n",
              "    </tr>\n",
              "    <tr>\n",
              "      <th>977</th>\n",
              "      <td>i1162_65_8_15i</td>\n",
              "      <td>i1162_65_8_19i</td>\n",
              "      <td>116265815</td>\n",
              "      <td>116265819</td>\n",
              "    </tr>\n",
              "    <tr>\n",
              "      <th>979</th>\n",
              "      <td>i1162_65_8_16i</td>\n",
              "      <td>i1162_65_8_18i</td>\n",
              "      <td>116265816</td>\n",
              "      <td>116265818</td>\n",
              "    </tr>\n",
              "    <tr>\n",
              "      <th>983</th>\n",
              "      <td>i1162_65_8_19i</td>\n",
              "      <td>i1162_65_8_21i</td>\n",
              "      <td>116265819</td>\n",
              "      <td>116265821</td>\n",
              "    </tr>\n",
              "    <tr>\n",
              "      <th>988</th>\n",
              "      <td>i1162_65_8_21i</td>\n",
              "      <td>i1162_65_8_22i</td>\n",
              "      <td>116265821</td>\n",
              "      <td>116265822</td>\n",
              "    </tr>\n",
              "  </tbody>\n",
              "</table>\n",
              "<p>461 rows × 4 columns</p>\n",
              "</div>\n",
              "      <button class=\"colab-df-convert\" onclick=\"convertToInteractive('df-4d1a7438-c263-4bff-9d28-510f9006c755')\"\n",
              "              title=\"Convert this dataframe to an interactive table.\"\n",
              "              style=\"display:none;\">\n",
              "        \n",
              "  <svg xmlns=\"http://www.w3.org/2000/svg\" height=\"24px\"viewBox=\"0 0 24 24\"\n",
              "       width=\"24px\">\n",
              "    <path d=\"M0 0h24v24H0V0z\" fill=\"none\"/>\n",
              "    <path d=\"M18.56 5.44l.94 2.06.94-2.06 2.06-.94-2.06-.94-.94-2.06-.94 2.06-2.06.94zm-11 1L8.5 8.5l.94-2.06 2.06-.94-2.06-.94L8.5 2.5l-.94 2.06-2.06.94zm10 10l.94 2.06.94-2.06 2.06-.94-2.06-.94-.94-2.06-.94 2.06-2.06.94z\"/><path d=\"M17.41 7.96l-1.37-1.37c-.4-.4-.92-.59-1.43-.59-.52 0-1.04.2-1.43.59L10.3 9.45l-7.72 7.72c-.78.78-.78 2.05 0 2.83L4 21.41c.39.39.9.59 1.41.59.51 0 1.02-.2 1.41-.59l7.78-7.78 2.81-2.81c.8-.78.8-2.07 0-2.86zM5.41 20L4 18.59l7.72-7.72 1.47 1.35L5.41 20z\"/>\n",
              "  </svg>\n",
              "      </button>\n",
              "      \n",
              "  <style>\n",
              "    .colab-df-container {\n",
              "      display:flex;\n",
              "      flex-wrap:wrap;\n",
              "      gap: 12px;\n",
              "    }\n",
              "\n",
              "    .colab-df-convert {\n",
              "      background-color: #E8F0FE;\n",
              "      border: none;\n",
              "      border-radius: 50%;\n",
              "      cursor: pointer;\n",
              "      display: none;\n",
              "      fill: #1967D2;\n",
              "      height: 32px;\n",
              "      padding: 0 0 0 0;\n",
              "      width: 32px;\n",
              "    }\n",
              "\n",
              "    .colab-df-convert:hover {\n",
              "      background-color: #E2EBFA;\n",
              "      box-shadow: 0px 1px 2px rgba(60, 64, 67, 0.3), 0px 1px 3px 1px rgba(60, 64, 67, 0.15);\n",
              "      fill: #174EA6;\n",
              "    }\n",
              "\n",
              "    [theme=dark] .colab-df-convert {\n",
              "      background-color: #3B4455;\n",
              "      fill: #D2E3FC;\n",
              "    }\n",
              "\n",
              "    [theme=dark] .colab-df-convert:hover {\n",
              "      background-color: #434B5C;\n",
              "      box-shadow: 0px 1px 3px 1px rgba(0, 0, 0, 0.15);\n",
              "      filter: drop-shadow(0px 1px 2px rgba(0, 0, 0, 0.3));\n",
              "      fill: #FFFFFF;\n",
              "    }\n",
              "  </style>\n",
              "\n",
              "      <script>\n",
              "        const buttonEl =\n",
              "          document.querySelector('#df-4d1a7438-c263-4bff-9d28-510f9006c755 button.colab-df-convert');\n",
              "        buttonEl.style.display =\n",
              "          google.colab.kernel.accessAllowed ? 'block' : 'none';\n",
              "\n",
              "        async function convertToInteractive(key) {\n",
              "          const element = document.querySelector('#df-4d1a7438-c263-4bff-9d28-510f9006c755');\n",
              "          const dataTable =\n",
              "            await google.colab.kernel.invokeFunction('convertToInteractive',\n",
              "                                                     [key], {});\n",
              "          if (!dataTable) return;\n",
              "\n",
              "          const docLinkHtml = 'Like what you see? Visit the ' +\n",
              "            '<a target=\"_blank\" href=https://colab.research.google.com/notebooks/data_table.ipynb>data table notebook</a>'\n",
              "            + ' to learn more about interactive tables.';\n",
              "          element.innerHTML = '';\n",
              "          dataTable['output_type'] = 'display_data';\n",
              "          await google.colab.output.renderOutput(dataTable, element);\n",
              "          const docLink = document.createElement('div');\n",
              "          docLink.innerHTML = docLinkHtml;\n",
              "          element.appendChild(docLink);\n",
              "        }\n",
              "      </script>\n",
              "    </div>\n",
              "  </div>\n",
              "  "
            ]
          },
          "metadata": {},
          "execution_count": 17
        }
      ],
      "source": [
        "# df[df['atom_id'] in nodes]\n",
        "new_df=df[(df['atom_id_num'].isin(nodes1)) ]\n",
        "new_df=df[(df['atom_id2_num'].isin(nodes2)) ]\n",
        "new_df=new_df.sort_values(by='atom_id_num')\n",
        "new_df"
      ]
    },
    {
      "cell_type": "code",
      "execution_count": 18,
      "metadata": {
        "colab": {
          "base_uri": "https://localhost:8080/",
          "height": 424
        },
        "id": "9LAy6ulER9nn",
        "outputId": "beed9d7e-54a4-4821-a719-862a54dba03b"
      },
      "outputs": [
        {
          "output_type": "execute_result",
          "data": {
            "text/plain": [
              "          atom_id_x        atom_id2  atom_id_num  atom_id2_num  \\\n",
              "0      i100_02_7_1i    i100_02_7_2i      1000271       1000272   \n",
              "1      i100_02_7_2i    i100_02_7_4i      1000272       1000274   \n",
              "2      i100_02_7_4i   i100_02_7_10i      1000274      10002710   \n",
              "3      i100_02_7_4i    i100_02_7_5i      1000274       1000275   \n",
              "4      i100_02_7_5i    i100_02_7_6i      1000275       1000276   \n",
              "..              ...             ...          ...           ...   \n",
              "460  i1162_65_8_15i  i1162_65_8_16i    116265815     116265816   \n",
              "461  i1162_65_8_15i  i1162_65_8_19i    116265815     116265819   \n",
              "462  i1162_65_8_16i  i1162_65_8_18i    116265816     116265818   \n",
              "463  i1162_65_8_19i  i1162_65_8_21i    116265819     116265821   \n",
              "464  i1162_65_8_21i  i1162_65_8_22i    116265821     116265822   \n",
              "\n",
              "          atom_id_y  molecule_id type  molecule_id_num  \n",
              "0      i100_02_7_1i   i100_02_7i    o           100027  \n",
              "1      i100_02_7_2i   i100_02_7i    n           100027  \n",
              "2      i100_02_7_4i   i100_02_7i    c           100027  \n",
              "3      i100_02_7_4i   i100_02_7i    c           100027  \n",
              "4      i100_02_7_5i   i100_02_7i    c           100027  \n",
              "..              ...          ...  ...              ...  \n",
              "460  i1162_65_8_15i  i1162_65_8i    c          1162658  \n",
              "461  i1162_65_8_15i  i1162_65_8i    c          1162658  \n",
              "462  i1162_65_8_16i  i1162_65_8i    c          1162658  \n",
              "463  i1162_65_8_19i  i1162_65_8i    c          1162658  \n",
              "464  i1162_65_8_21i  i1162_65_8i    o          1162658  \n",
              "\n",
              "[465 rows x 8 columns]"
            ],
            "text/html": [
              "\n",
              "  <div id=\"df-551a93b7-b2fe-4673-b58f-e7ab420fbe3a\">\n",
              "    <div class=\"colab-df-container\">\n",
              "      <div>\n",
              "<style scoped>\n",
              "    .dataframe tbody tr th:only-of-type {\n",
              "        vertical-align: middle;\n",
              "    }\n",
              "\n",
              "    .dataframe tbody tr th {\n",
              "        vertical-align: top;\n",
              "    }\n",
              "\n",
              "    .dataframe thead th {\n",
              "        text-align: right;\n",
              "    }\n",
              "</style>\n",
              "<table border=\"1\" class=\"dataframe\">\n",
              "  <thead>\n",
              "    <tr style=\"text-align: right;\">\n",
              "      <th></th>\n",
              "      <th>atom_id_x</th>\n",
              "      <th>atom_id2</th>\n",
              "      <th>atom_id_num</th>\n",
              "      <th>atom_id2_num</th>\n",
              "      <th>atom_id_y</th>\n",
              "      <th>molecule_id</th>\n",
              "      <th>type</th>\n",
              "      <th>molecule_id_num</th>\n",
              "    </tr>\n",
              "  </thead>\n",
              "  <tbody>\n",
              "    <tr>\n",
              "      <th>0</th>\n",
              "      <td>i100_02_7_1i</td>\n",
              "      <td>i100_02_7_2i</td>\n",
              "      <td>1000271</td>\n",
              "      <td>1000272</td>\n",
              "      <td>i100_02_7_1i</td>\n",
              "      <td>i100_02_7i</td>\n",
              "      <td>o</td>\n",
              "      <td>100027</td>\n",
              "    </tr>\n",
              "    <tr>\n",
              "      <th>1</th>\n",
              "      <td>i100_02_7_2i</td>\n",
              "      <td>i100_02_7_4i</td>\n",
              "      <td>1000272</td>\n",
              "      <td>1000274</td>\n",
              "      <td>i100_02_7_2i</td>\n",
              "      <td>i100_02_7i</td>\n",
              "      <td>n</td>\n",
              "      <td>100027</td>\n",
              "    </tr>\n",
              "    <tr>\n",
              "      <th>2</th>\n",
              "      <td>i100_02_7_4i</td>\n",
              "      <td>i100_02_7_10i</td>\n",
              "      <td>1000274</td>\n",
              "      <td>10002710</td>\n",
              "      <td>i100_02_7_4i</td>\n",
              "      <td>i100_02_7i</td>\n",
              "      <td>c</td>\n",
              "      <td>100027</td>\n",
              "    </tr>\n",
              "    <tr>\n",
              "      <th>3</th>\n",
              "      <td>i100_02_7_4i</td>\n",
              "      <td>i100_02_7_5i</td>\n",
              "      <td>1000274</td>\n",
              "      <td>1000275</td>\n",
              "      <td>i100_02_7_4i</td>\n",
              "      <td>i100_02_7i</td>\n",
              "      <td>c</td>\n",
              "      <td>100027</td>\n",
              "    </tr>\n",
              "    <tr>\n",
              "      <th>4</th>\n",
              "      <td>i100_02_7_5i</td>\n",
              "      <td>i100_02_7_6i</td>\n",
              "      <td>1000275</td>\n",
              "      <td>1000276</td>\n",
              "      <td>i100_02_7_5i</td>\n",
              "      <td>i100_02_7i</td>\n",
              "      <td>c</td>\n",
              "      <td>100027</td>\n",
              "    </tr>\n",
              "    <tr>\n",
              "      <th>...</th>\n",
              "      <td>...</td>\n",
              "      <td>...</td>\n",
              "      <td>...</td>\n",
              "      <td>...</td>\n",
              "      <td>...</td>\n",
              "      <td>...</td>\n",
              "      <td>...</td>\n",
              "      <td>...</td>\n",
              "    </tr>\n",
              "    <tr>\n",
              "      <th>460</th>\n",
              "      <td>i1162_65_8_15i</td>\n",
              "      <td>i1162_65_8_16i</td>\n",
              "      <td>116265815</td>\n",
              "      <td>116265816</td>\n",
              "      <td>i1162_65_8_15i</td>\n",
              "      <td>i1162_65_8i</td>\n",
              "      <td>c</td>\n",
              "      <td>1162658</td>\n",
              "    </tr>\n",
              "    <tr>\n",
              "      <th>461</th>\n",
              "      <td>i1162_65_8_15i</td>\n",
              "      <td>i1162_65_8_19i</td>\n",
              "      <td>116265815</td>\n",
              "      <td>116265819</td>\n",
              "      <td>i1162_65_8_15i</td>\n",
              "      <td>i1162_65_8i</td>\n",
              "      <td>c</td>\n",
              "      <td>1162658</td>\n",
              "    </tr>\n",
              "    <tr>\n",
              "      <th>462</th>\n",
              "      <td>i1162_65_8_16i</td>\n",
              "      <td>i1162_65_8_18i</td>\n",
              "      <td>116265816</td>\n",
              "      <td>116265818</td>\n",
              "      <td>i1162_65_8_16i</td>\n",
              "      <td>i1162_65_8i</td>\n",
              "      <td>c</td>\n",
              "      <td>1162658</td>\n",
              "    </tr>\n",
              "    <tr>\n",
              "      <th>463</th>\n",
              "      <td>i1162_65_8_19i</td>\n",
              "      <td>i1162_65_8_21i</td>\n",
              "      <td>116265819</td>\n",
              "      <td>116265821</td>\n",
              "      <td>i1162_65_8_19i</td>\n",
              "      <td>i1162_65_8i</td>\n",
              "      <td>c</td>\n",
              "      <td>1162658</td>\n",
              "    </tr>\n",
              "    <tr>\n",
              "      <th>464</th>\n",
              "      <td>i1162_65_8_21i</td>\n",
              "      <td>i1162_65_8_22i</td>\n",
              "      <td>116265821</td>\n",
              "      <td>116265822</td>\n",
              "      <td>i1162_65_8_21i</td>\n",
              "      <td>i1162_65_8i</td>\n",
              "      <td>o</td>\n",
              "      <td>1162658</td>\n",
              "    </tr>\n",
              "  </tbody>\n",
              "</table>\n",
              "<p>465 rows × 8 columns</p>\n",
              "</div>\n",
              "      <button class=\"colab-df-convert\" onclick=\"convertToInteractive('df-551a93b7-b2fe-4673-b58f-e7ab420fbe3a')\"\n",
              "              title=\"Convert this dataframe to an interactive table.\"\n",
              "              style=\"display:none;\">\n",
              "        \n",
              "  <svg xmlns=\"http://www.w3.org/2000/svg\" height=\"24px\"viewBox=\"0 0 24 24\"\n",
              "       width=\"24px\">\n",
              "    <path d=\"M0 0h24v24H0V0z\" fill=\"none\"/>\n",
              "    <path d=\"M18.56 5.44l.94 2.06.94-2.06 2.06-.94-2.06-.94-.94-2.06-.94 2.06-2.06.94zm-11 1L8.5 8.5l.94-2.06 2.06-.94-2.06-.94L8.5 2.5l-.94 2.06-2.06.94zm10 10l.94 2.06.94-2.06 2.06-.94-2.06-.94-.94-2.06-.94 2.06-2.06.94z\"/><path d=\"M17.41 7.96l-1.37-1.37c-.4-.4-.92-.59-1.43-.59-.52 0-1.04.2-1.43.59L10.3 9.45l-7.72 7.72c-.78.78-.78 2.05 0 2.83L4 21.41c.39.39.9.59 1.41.59.51 0 1.02-.2 1.41-.59l7.78-7.78 2.81-2.81c.8-.78.8-2.07 0-2.86zM5.41 20L4 18.59l7.72-7.72 1.47 1.35L5.41 20z\"/>\n",
              "  </svg>\n",
              "      </button>\n",
              "      \n",
              "  <style>\n",
              "    .colab-df-container {\n",
              "      display:flex;\n",
              "      flex-wrap:wrap;\n",
              "      gap: 12px;\n",
              "    }\n",
              "\n",
              "    .colab-df-convert {\n",
              "      background-color: #E8F0FE;\n",
              "      border: none;\n",
              "      border-radius: 50%;\n",
              "      cursor: pointer;\n",
              "      display: none;\n",
              "      fill: #1967D2;\n",
              "      height: 32px;\n",
              "      padding: 0 0 0 0;\n",
              "      width: 32px;\n",
              "    }\n",
              "\n",
              "    .colab-df-convert:hover {\n",
              "      background-color: #E2EBFA;\n",
              "      box-shadow: 0px 1px 2px rgba(60, 64, 67, 0.3), 0px 1px 3px 1px rgba(60, 64, 67, 0.15);\n",
              "      fill: #174EA6;\n",
              "    }\n",
              "\n",
              "    [theme=dark] .colab-df-convert {\n",
              "      background-color: #3B4455;\n",
              "      fill: #D2E3FC;\n",
              "    }\n",
              "\n",
              "    [theme=dark] .colab-df-convert:hover {\n",
              "      background-color: #434B5C;\n",
              "      box-shadow: 0px 1px 3px 1px rgba(0, 0, 0, 0.15);\n",
              "      filter: drop-shadow(0px 1px 2px rgba(0, 0, 0, 0.3));\n",
              "      fill: #FFFFFF;\n",
              "    }\n",
              "  </style>\n",
              "\n",
              "      <script>\n",
              "        const buttonEl =\n",
              "          document.querySelector('#df-551a93b7-b2fe-4673-b58f-e7ab420fbe3a button.colab-df-convert');\n",
              "        buttonEl.style.display =\n",
              "          google.colab.kernel.accessAllowed ? 'block' : 'none';\n",
              "\n",
              "        async function convertToInteractive(key) {\n",
              "          const element = document.querySelector('#df-551a93b7-b2fe-4673-b58f-e7ab420fbe3a');\n",
              "          const dataTable =\n",
              "            await google.colab.kernel.invokeFunction('convertToInteractive',\n",
              "                                                     [key], {});\n",
              "          if (!dataTable) return;\n",
              "\n",
              "          const docLinkHtml = 'Like what you see? Visit the ' +\n",
              "            '<a target=\"_blank\" href=https://colab.research.google.com/notebooks/data_table.ipynb>data table notebook</a>'\n",
              "            + ' to learn more about interactive tables.';\n",
              "          element.innerHTML = '';\n",
              "          dataTable['output_type'] = 'display_data';\n",
              "          await google.colab.output.renderOutput(dataTable, element);\n",
              "          const docLink = document.createElement('div');\n",
              "          docLink.innerHTML = docLinkHtml;\n",
              "          element.appendChild(docLink);\n",
              "        }\n",
              "      </script>\n",
              "    </div>\n",
              "  </div>\n",
              "  "
            ]
          },
          "metadata": {},
          "execution_count": 18
        }
      ],
      "source": [
        "data_for_analysis=pd.merge(new_df, df_x, how='inner' , on='atom_id_num')\n",
        "data_for_analysis"
      ]
    },
    {
      "cell_type": "code",
      "execution_count": 19,
      "metadata": {
        "id": "C2fAn5TGYwHr"
      },
      "outputs": [],
      "source": [
        ""
      ]
    },
    {
      "cell_type": "code",
      "execution_count": 20,
      "metadata": {
        "colab": {
          "base_uri": "https://localhost:8080/",
          "height": 424
        },
        "id": "WMQTbmxQR9wV",
        "outputId": "61620ffb-e8b1-4923-875c-d93c8cdac15e"
      },
      "outputs": [
        {
          "output_type": "execute_result",
          "data": {
            "text/plain": [
              "     atom_id_num  node_num\n",
              "0        1000271         1\n",
              "1        1000272         2\n",
              "2        1000274         3\n",
              "3        1000275         4\n",
              "4        1000276         5\n",
              "..           ...       ...\n",
              "454    116265816       455\n",
              "455    116265818       456\n",
              "456    116265819       457\n",
              "457    116265821       458\n",
              "458    116265822       459\n",
              "\n",
              "[459 rows x 2 columns]"
            ],
            "text/html": [
              "\n",
              "  <div id=\"df-b5dae84c-dd0f-4eee-98e3-87dff3deea5d\">\n",
              "    <div class=\"colab-df-container\">\n",
              "      <div>\n",
              "<style scoped>\n",
              "    .dataframe tbody tr th:only-of-type {\n",
              "        vertical-align: middle;\n",
              "    }\n",
              "\n",
              "    .dataframe tbody tr th {\n",
              "        vertical-align: top;\n",
              "    }\n",
              "\n",
              "    .dataframe thead th {\n",
              "        text-align: right;\n",
              "    }\n",
              "</style>\n",
              "<table border=\"1\" class=\"dataframe\">\n",
              "  <thead>\n",
              "    <tr style=\"text-align: right;\">\n",
              "      <th></th>\n",
              "      <th>atom_id_num</th>\n",
              "      <th>node_num</th>\n",
              "    </tr>\n",
              "  </thead>\n",
              "  <tbody>\n",
              "    <tr>\n",
              "      <th>0</th>\n",
              "      <td>1000271</td>\n",
              "      <td>1</td>\n",
              "    </tr>\n",
              "    <tr>\n",
              "      <th>1</th>\n",
              "      <td>1000272</td>\n",
              "      <td>2</td>\n",
              "    </tr>\n",
              "    <tr>\n",
              "      <th>2</th>\n",
              "      <td>1000274</td>\n",
              "      <td>3</td>\n",
              "    </tr>\n",
              "    <tr>\n",
              "      <th>3</th>\n",
              "      <td>1000275</td>\n",
              "      <td>4</td>\n",
              "    </tr>\n",
              "    <tr>\n",
              "      <th>4</th>\n",
              "      <td>1000276</td>\n",
              "      <td>5</td>\n",
              "    </tr>\n",
              "    <tr>\n",
              "      <th>...</th>\n",
              "      <td>...</td>\n",
              "      <td>...</td>\n",
              "    </tr>\n",
              "    <tr>\n",
              "      <th>454</th>\n",
              "      <td>116265816</td>\n",
              "      <td>455</td>\n",
              "    </tr>\n",
              "    <tr>\n",
              "      <th>455</th>\n",
              "      <td>116265818</td>\n",
              "      <td>456</td>\n",
              "    </tr>\n",
              "    <tr>\n",
              "      <th>456</th>\n",
              "      <td>116265819</td>\n",
              "      <td>457</td>\n",
              "    </tr>\n",
              "    <tr>\n",
              "      <th>457</th>\n",
              "      <td>116265821</td>\n",
              "      <td>458</td>\n",
              "    </tr>\n",
              "    <tr>\n",
              "      <th>458</th>\n",
              "      <td>116265822</td>\n",
              "      <td>459</td>\n",
              "    </tr>\n",
              "  </tbody>\n",
              "</table>\n",
              "<p>459 rows × 2 columns</p>\n",
              "</div>\n",
              "      <button class=\"colab-df-convert\" onclick=\"convertToInteractive('df-b5dae84c-dd0f-4eee-98e3-87dff3deea5d')\"\n",
              "              title=\"Convert this dataframe to an interactive table.\"\n",
              "              style=\"display:none;\">\n",
              "        \n",
              "  <svg xmlns=\"http://www.w3.org/2000/svg\" height=\"24px\"viewBox=\"0 0 24 24\"\n",
              "       width=\"24px\">\n",
              "    <path d=\"M0 0h24v24H0V0z\" fill=\"none\"/>\n",
              "    <path d=\"M18.56 5.44l.94 2.06.94-2.06 2.06-.94-2.06-.94-.94-2.06-.94 2.06-2.06.94zm-11 1L8.5 8.5l.94-2.06 2.06-.94-2.06-.94L8.5 2.5l-.94 2.06-2.06.94zm10 10l.94 2.06.94-2.06 2.06-.94-2.06-.94-.94-2.06-.94 2.06-2.06.94z\"/><path d=\"M17.41 7.96l-1.37-1.37c-.4-.4-.92-.59-1.43-.59-.52 0-1.04.2-1.43.59L10.3 9.45l-7.72 7.72c-.78.78-.78 2.05 0 2.83L4 21.41c.39.39.9.59 1.41.59.51 0 1.02-.2 1.41-.59l7.78-7.78 2.81-2.81c.8-.78.8-2.07 0-2.86zM5.41 20L4 18.59l7.72-7.72 1.47 1.35L5.41 20z\"/>\n",
              "  </svg>\n",
              "      </button>\n",
              "      \n",
              "  <style>\n",
              "    .colab-df-container {\n",
              "      display:flex;\n",
              "      flex-wrap:wrap;\n",
              "      gap: 12px;\n",
              "    }\n",
              "\n",
              "    .colab-df-convert {\n",
              "      background-color: #E8F0FE;\n",
              "      border: none;\n",
              "      border-radius: 50%;\n",
              "      cursor: pointer;\n",
              "      display: none;\n",
              "      fill: #1967D2;\n",
              "      height: 32px;\n",
              "      padding: 0 0 0 0;\n",
              "      width: 32px;\n",
              "    }\n",
              "\n",
              "    .colab-df-convert:hover {\n",
              "      background-color: #E2EBFA;\n",
              "      box-shadow: 0px 1px 2px rgba(60, 64, 67, 0.3), 0px 1px 3px 1px rgba(60, 64, 67, 0.15);\n",
              "      fill: #174EA6;\n",
              "    }\n",
              "\n",
              "    [theme=dark] .colab-df-convert {\n",
              "      background-color: #3B4455;\n",
              "      fill: #D2E3FC;\n",
              "    }\n",
              "\n",
              "    [theme=dark] .colab-df-convert:hover {\n",
              "      background-color: #434B5C;\n",
              "      box-shadow: 0px 1px 3px 1px rgba(0, 0, 0, 0.15);\n",
              "      filter: drop-shadow(0px 1px 2px rgba(0, 0, 0, 0.3));\n",
              "      fill: #FFFFFF;\n",
              "    }\n",
              "  </style>\n",
              "\n",
              "      <script>\n",
              "        const buttonEl =\n",
              "          document.querySelector('#df-b5dae84c-dd0f-4eee-98e3-87dff3deea5d button.colab-df-convert');\n",
              "        buttonEl.style.display =\n",
              "          google.colab.kernel.accessAllowed ? 'block' : 'none';\n",
              "\n",
              "        async function convertToInteractive(key) {\n",
              "          const element = document.querySelector('#df-b5dae84c-dd0f-4eee-98e3-87dff3deea5d');\n",
              "          const dataTable =\n",
              "            await google.colab.kernel.invokeFunction('convertToInteractive',\n",
              "                                                     [key], {});\n",
              "          if (!dataTable) return;\n",
              "\n",
              "          const docLinkHtml = 'Like what you see? Visit the ' +\n",
              "            '<a target=\"_blank\" href=https://colab.research.google.com/notebooks/data_table.ipynb>data table notebook</a>'\n",
              "            + ' to learn more about interactive tables.';\n",
              "          element.innerHTML = '';\n",
              "          dataTable['output_type'] = 'display_data';\n",
              "          await google.colab.output.renderOutput(dataTable, element);\n",
              "          const docLink = document.createElement('div');\n",
              "          docLink.innerHTML = docLinkHtml;\n",
              "          element.appendChild(docLink);\n",
              "        }\n",
              "      </script>\n",
              "    </div>\n",
              "  </div>\n",
              "  "
            ]
          },
          "metadata": {},
          "execution_count": 20
        }
      ],
      "source": [
        "atom_id_numset=set(data_for_analysis['atom_id_num'])\n",
        "atom_id2_numset=set(data_for_analysis['atom_id2_num'])\n",
        "atoms_enum=list(atom_id_numset.union(atom_id2_numset))\n",
        "atoms_enum.sort()\n",
        "len(atoms_enum)\n",
        "\n",
        "range_nodes= range(1,len(atoms_enum)+1)\n",
        "node_num= list(range_nodes)\n",
        "# node_num=[str(f) for f in node_num]\n",
        "\n",
        "atoms_enum\n",
        "# atoms_enum=[str(f) for f in atoms_enum]\n",
        "\n",
        "# nodes_dict = dict(zip(atoms_enum, node_num))\n",
        "\n",
        "# nodes_dict\n",
        "list(zip(atoms_enum,node_num))\n",
        "df_node_nums=pd.DataFrame(list(zip(atoms_enum,node_num)), columns=['atom_id_num','node_num'])\n",
        "df_node_nums"
      ]
    },
    {
      "cell_type": "code",
      "execution_count": 21,
      "metadata": {
        "id": "aKUsZkFAbDmf"
      },
      "outputs": [],
      "source": [
        "data_for_analysis=pd.merge(data_for_analysis,df_node_nums,  on='atom_id_num' )\n"
      ]
    },
    {
      "cell_type": "code",
      "execution_count": 22,
      "metadata": {
        "colab": {
          "base_uri": "https://localhost:8080/",
          "height": 424
        },
        "id": "do4FgYCffYjx",
        "outputId": "b11686fd-c57b-4df8-f4de-b0614dff8161"
      },
      "outputs": [
        {
          "output_type": "execute_result",
          "data": {
            "text/plain": [
              "          atom_id_x        atom_id2  atom_id_num  atom_id2_num  \\\n",
              "0      i100_02_7_1i    i100_02_7_2i      1000271       1000272   \n",
              "1      i100_02_7_2i    i100_02_7_4i      1000272       1000274   \n",
              "2      i100_02_7_4i   i100_02_7_10i      1000274      10002710   \n",
              "3      i100_02_7_4i    i100_02_7_5i      1000274       1000275   \n",
              "4      i100_02_7_5i    i100_02_7_6i      1000275       1000276   \n",
              "..              ...             ...          ...           ...   \n",
              "460  i1162_65_8_15i  i1162_65_8_16i    116265815     116265816   \n",
              "461  i1162_65_8_15i  i1162_65_8_19i    116265815     116265819   \n",
              "462  i1162_65_8_16i  i1162_65_8_18i    116265816     116265818   \n",
              "463  i1162_65_8_19i  i1162_65_8_21i    116265819     116265821   \n",
              "464  i1162_65_8_21i  i1162_65_8_22i    116265821     116265822   \n",
              "\n",
              "          atom_id_y  molecule_id type  molecule_id_num  node_num  \n",
              "0      i100_02_7_1i   i100_02_7i    o           100027         1  \n",
              "1      i100_02_7_2i   i100_02_7i    n           100027         2  \n",
              "2      i100_02_7_4i   i100_02_7i    c           100027         3  \n",
              "3      i100_02_7_4i   i100_02_7i    c           100027         3  \n",
              "4      i100_02_7_5i   i100_02_7i    c           100027         4  \n",
              "..              ...          ...  ...              ...       ...  \n",
              "460  i1162_65_8_15i  i1162_65_8i    c          1162658       454  \n",
              "461  i1162_65_8_15i  i1162_65_8i    c          1162658       454  \n",
              "462  i1162_65_8_16i  i1162_65_8i    c          1162658       455  \n",
              "463  i1162_65_8_19i  i1162_65_8i    c          1162658       457  \n",
              "464  i1162_65_8_21i  i1162_65_8i    o          1162658       458  \n",
              "\n",
              "[465 rows x 9 columns]"
            ],
            "text/html": [
              "\n",
              "  <div id=\"df-faeb3424-6b69-4707-af57-d7cc2f82096a\">\n",
              "    <div class=\"colab-df-container\">\n",
              "      <div>\n",
              "<style scoped>\n",
              "    .dataframe tbody tr th:only-of-type {\n",
              "        vertical-align: middle;\n",
              "    }\n",
              "\n",
              "    .dataframe tbody tr th {\n",
              "        vertical-align: top;\n",
              "    }\n",
              "\n",
              "    .dataframe thead th {\n",
              "        text-align: right;\n",
              "    }\n",
              "</style>\n",
              "<table border=\"1\" class=\"dataframe\">\n",
              "  <thead>\n",
              "    <tr style=\"text-align: right;\">\n",
              "      <th></th>\n",
              "      <th>atom_id_x</th>\n",
              "      <th>atom_id2</th>\n",
              "      <th>atom_id_num</th>\n",
              "      <th>atom_id2_num</th>\n",
              "      <th>atom_id_y</th>\n",
              "      <th>molecule_id</th>\n",
              "      <th>type</th>\n",
              "      <th>molecule_id_num</th>\n",
              "      <th>node_num</th>\n",
              "    </tr>\n",
              "  </thead>\n",
              "  <tbody>\n",
              "    <tr>\n",
              "      <th>0</th>\n",
              "      <td>i100_02_7_1i</td>\n",
              "      <td>i100_02_7_2i</td>\n",
              "      <td>1000271</td>\n",
              "      <td>1000272</td>\n",
              "      <td>i100_02_7_1i</td>\n",
              "      <td>i100_02_7i</td>\n",
              "      <td>o</td>\n",
              "      <td>100027</td>\n",
              "      <td>1</td>\n",
              "    </tr>\n",
              "    <tr>\n",
              "      <th>1</th>\n",
              "      <td>i100_02_7_2i</td>\n",
              "      <td>i100_02_7_4i</td>\n",
              "      <td>1000272</td>\n",
              "      <td>1000274</td>\n",
              "      <td>i100_02_7_2i</td>\n",
              "      <td>i100_02_7i</td>\n",
              "      <td>n</td>\n",
              "      <td>100027</td>\n",
              "      <td>2</td>\n",
              "    </tr>\n",
              "    <tr>\n",
              "      <th>2</th>\n",
              "      <td>i100_02_7_4i</td>\n",
              "      <td>i100_02_7_10i</td>\n",
              "      <td>1000274</td>\n",
              "      <td>10002710</td>\n",
              "      <td>i100_02_7_4i</td>\n",
              "      <td>i100_02_7i</td>\n",
              "      <td>c</td>\n",
              "      <td>100027</td>\n",
              "      <td>3</td>\n",
              "    </tr>\n",
              "    <tr>\n",
              "      <th>3</th>\n",
              "      <td>i100_02_7_4i</td>\n",
              "      <td>i100_02_7_5i</td>\n",
              "      <td>1000274</td>\n",
              "      <td>1000275</td>\n",
              "      <td>i100_02_7_4i</td>\n",
              "      <td>i100_02_7i</td>\n",
              "      <td>c</td>\n",
              "      <td>100027</td>\n",
              "      <td>3</td>\n",
              "    </tr>\n",
              "    <tr>\n",
              "      <th>4</th>\n",
              "      <td>i100_02_7_5i</td>\n",
              "      <td>i100_02_7_6i</td>\n",
              "      <td>1000275</td>\n",
              "      <td>1000276</td>\n",
              "      <td>i100_02_7_5i</td>\n",
              "      <td>i100_02_7i</td>\n",
              "      <td>c</td>\n",
              "      <td>100027</td>\n",
              "      <td>4</td>\n",
              "    </tr>\n",
              "    <tr>\n",
              "      <th>...</th>\n",
              "      <td>...</td>\n",
              "      <td>...</td>\n",
              "      <td>...</td>\n",
              "      <td>...</td>\n",
              "      <td>...</td>\n",
              "      <td>...</td>\n",
              "      <td>...</td>\n",
              "      <td>...</td>\n",
              "      <td>...</td>\n",
              "    </tr>\n",
              "    <tr>\n",
              "      <th>460</th>\n",
              "      <td>i1162_65_8_15i</td>\n",
              "      <td>i1162_65_8_16i</td>\n",
              "      <td>116265815</td>\n",
              "      <td>116265816</td>\n",
              "      <td>i1162_65_8_15i</td>\n",
              "      <td>i1162_65_8i</td>\n",
              "      <td>c</td>\n",
              "      <td>1162658</td>\n",
              "      <td>454</td>\n",
              "    </tr>\n",
              "    <tr>\n",
              "      <th>461</th>\n",
              "      <td>i1162_65_8_15i</td>\n",
              "      <td>i1162_65_8_19i</td>\n",
              "      <td>116265815</td>\n",
              "      <td>116265819</td>\n",
              "      <td>i1162_65_8_15i</td>\n",
              "      <td>i1162_65_8i</td>\n",
              "      <td>c</td>\n",
              "      <td>1162658</td>\n",
              "      <td>454</td>\n",
              "    </tr>\n",
              "    <tr>\n",
              "      <th>462</th>\n",
              "      <td>i1162_65_8_16i</td>\n",
              "      <td>i1162_65_8_18i</td>\n",
              "      <td>116265816</td>\n",
              "      <td>116265818</td>\n",
              "      <td>i1162_65_8_16i</td>\n",
              "      <td>i1162_65_8i</td>\n",
              "      <td>c</td>\n",
              "      <td>1162658</td>\n",
              "      <td>455</td>\n",
              "    </tr>\n",
              "    <tr>\n",
              "      <th>463</th>\n",
              "      <td>i1162_65_8_19i</td>\n",
              "      <td>i1162_65_8_21i</td>\n",
              "      <td>116265819</td>\n",
              "      <td>116265821</td>\n",
              "      <td>i1162_65_8_19i</td>\n",
              "      <td>i1162_65_8i</td>\n",
              "      <td>c</td>\n",
              "      <td>1162658</td>\n",
              "      <td>457</td>\n",
              "    </tr>\n",
              "    <tr>\n",
              "      <th>464</th>\n",
              "      <td>i1162_65_8_21i</td>\n",
              "      <td>i1162_65_8_22i</td>\n",
              "      <td>116265821</td>\n",
              "      <td>116265822</td>\n",
              "      <td>i1162_65_8_21i</td>\n",
              "      <td>i1162_65_8i</td>\n",
              "      <td>o</td>\n",
              "      <td>1162658</td>\n",
              "      <td>458</td>\n",
              "    </tr>\n",
              "  </tbody>\n",
              "</table>\n",
              "<p>465 rows × 9 columns</p>\n",
              "</div>\n",
              "      <button class=\"colab-df-convert\" onclick=\"convertToInteractive('df-faeb3424-6b69-4707-af57-d7cc2f82096a')\"\n",
              "              title=\"Convert this dataframe to an interactive table.\"\n",
              "              style=\"display:none;\">\n",
              "        \n",
              "  <svg xmlns=\"http://www.w3.org/2000/svg\" height=\"24px\"viewBox=\"0 0 24 24\"\n",
              "       width=\"24px\">\n",
              "    <path d=\"M0 0h24v24H0V0z\" fill=\"none\"/>\n",
              "    <path d=\"M18.56 5.44l.94 2.06.94-2.06 2.06-.94-2.06-.94-.94-2.06-.94 2.06-2.06.94zm-11 1L8.5 8.5l.94-2.06 2.06-.94-2.06-.94L8.5 2.5l-.94 2.06-2.06.94zm10 10l.94 2.06.94-2.06 2.06-.94-2.06-.94-.94-2.06-.94 2.06-2.06.94z\"/><path d=\"M17.41 7.96l-1.37-1.37c-.4-.4-.92-.59-1.43-.59-.52 0-1.04.2-1.43.59L10.3 9.45l-7.72 7.72c-.78.78-.78 2.05 0 2.83L4 21.41c.39.39.9.59 1.41.59.51 0 1.02-.2 1.41-.59l7.78-7.78 2.81-2.81c.8-.78.8-2.07 0-2.86zM5.41 20L4 18.59l7.72-7.72 1.47 1.35L5.41 20z\"/>\n",
              "  </svg>\n",
              "      </button>\n",
              "      \n",
              "  <style>\n",
              "    .colab-df-container {\n",
              "      display:flex;\n",
              "      flex-wrap:wrap;\n",
              "      gap: 12px;\n",
              "    }\n",
              "\n",
              "    .colab-df-convert {\n",
              "      background-color: #E8F0FE;\n",
              "      border: none;\n",
              "      border-radius: 50%;\n",
              "      cursor: pointer;\n",
              "      display: none;\n",
              "      fill: #1967D2;\n",
              "      height: 32px;\n",
              "      padding: 0 0 0 0;\n",
              "      width: 32px;\n",
              "    }\n",
              "\n",
              "    .colab-df-convert:hover {\n",
              "      background-color: #E2EBFA;\n",
              "      box-shadow: 0px 1px 2px rgba(60, 64, 67, 0.3), 0px 1px 3px 1px rgba(60, 64, 67, 0.15);\n",
              "      fill: #174EA6;\n",
              "    }\n",
              "\n",
              "    [theme=dark] .colab-df-convert {\n",
              "      background-color: #3B4455;\n",
              "      fill: #D2E3FC;\n",
              "    }\n",
              "\n",
              "    [theme=dark] .colab-df-convert:hover {\n",
              "      background-color: #434B5C;\n",
              "      box-shadow: 0px 1px 3px 1px rgba(0, 0, 0, 0.15);\n",
              "      filter: drop-shadow(0px 1px 2px rgba(0, 0, 0, 0.3));\n",
              "      fill: #FFFFFF;\n",
              "    }\n",
              "  </style>\n",
              "\n",
              "      <script>\n",
              "        const buttonEl =\n",
              "          document.querySelector('#df-faeb3424-6b69-4707-af57-d7cc2f82096a button.colab-df-convert');\n",
              "        buttonEl.style.display =\n",
              "          google.colab.kernel.accessAllowed ? 'block' : 'none';\n",
              "\n",
              "        async function convertToInteractive(key) {\n",
              "          const element = document.querySelector('#df-faeb3424-6b69-4707-af57-d7cc2f82096a');\n",
              "          const dataTable =\n",
              "            await google.colab.kernel.invokeFunction('convertToInteractive',\n",
              "                                                     [key], {});\n",
              "          if (!dataTable) return;\n",
              "\n",
              "          const docLinkHtml = 'Like what you see? Visit the ' +\n",
              "            '<a target=\"_blank\" href=https://colab.research.google.com/notebooks/data_table.ipynb>data table notebook</a>'\n",
              "            + ' to learn more about interactive tables.';\n",
              "          element.innerHTML = '';\n",
              "          dataTable['output_type'] = 'display_data';\n",
              "          await google.colab.output.renderOutput(dataTable, element);\n",
              "          const docLink = document.createElement('div');\n",
              "          docLink.innerHTML = docLinkHtml;\n",
              "          element.appendChild(docLink);\n",
              "        }\n",
              "      </script>\n",
              "    </div>\n",
              "  </div>\n",
              "  "
            ]
          },
          "metadata": {},
          "execution_count": 22
        }
      ],
      "source": [
        "data_for_analysis"
      ]
    },
    {
      "cell_type": "code",
      "execution_count": 23,
      "metadata": {
        "id": "EwOtUO1VeqAy"
      },
      "outputs": [],
      "source": [
        "data_for_analysis.rename(columns={'node_num':'atom_id_num_int'}, inplace = True)\n",
        "\n"
      ]
    },
    {
      "cell_type": "code",
      "execution_count": 24,
      "metadata": {
        "id": "H14t3LH0fU9J"
      },
      "outputs": [],
      "source": [
        "data_for_analysis=pd.merge(data_for_analysis,df_node_nums,  left_on='atom_id2_num', right_on='atom_id_num')"
      ]
    },
    {
      "cell_type": "code",
      "execution_count": 25,
      "metadata": {
        "id": "o9FkeNbCf3VL"
      },
      "outputs": [],
      "source": [
        "data_for_analysis.rename(columns={'node_num':'atom_id2_num_int'}, inplace = True)"
      ]
    },
    {
      "cell_type": "code",
      "execution_count": 26,
      "metadata": {
        "colab": {
          "base_uri": "https://localhost:8080/",
          "height": 424
        },
        "id": "pTaMDq3ob4TO",
        "outputId": "79225205-9090-45a8-ee64-0d044227ed32"
      },
      "outputs": [
        {
          "output_type": "execute_result",
          "data": {
            "text/plain": [
              "          atom_id_x        atom_id2  atom_id_num_x  atom_id2_num  \\\n",
              "0      i100_02_7_1i    i100_02_7_2i        1000271       1000272   \n",
              "1      i100_02_7_2i    i100_02_7_4i        1000272       1000274   \n",
              "2      i100_02_7_4i   i100_02_7_10i        1000274      10002710   \n",
              "3      i100_02_7_9i   i100_02_7_10i        1000279      10002710   \n",
              "4      i100_02_7_4i    i100_02_7_5i        1000274       1000275   \n",
              "..              ...             ...            ...           ...   \n",
              "460  i1162_65_8_13i  i1162_65_8_15i      116265813     116265815   \n",
              "461  i1162_65_8_14i  i1162_65_8_18i      116265814     116265818   \n",
              "462  i1162_65_8_16i  i1162_65_8_18i      116265816     116265818   \n",
              "463  i1162_65_8_15i  i1162_65_8_16i      116265815     116265816   \n",
              "464  i1162_65_8_15i  i1162_65_8_19i      116265815     116265819   \n",
              "\n",
              "          atom_id_y  molecule_id type  molecule_id_num  atom_id_num_int  \\\n",
              "0      i100_02_7_1i   i100_02_7i    o           100027                1   \n",
              "1      i100_02_7_2i   i100_02_7i    n           100027                2   \n",
              "2      i100_02_7_4i   i100_02_7i    c           100027                3   \n",
              "3      i100_02_7_9i   i100_02_7i    c           100027                8   \n",
              "4      i100_02_7_4i   i100_02_7i    c           100027                3   \n",
              "..              ...          ...  ...              ...              ...   \n",
              "460  i1162_65_8_13i  i1162_65_8i    c          1162658              452   \n",
              "461  i1162_65_8_14i  i1162_65_8i    c          1162658              453   \n",
              "462  i1162_65_8_16i  i1162_65_8i    c          1162658              455   \n",
              "463  i1162_65_8_15i  i1162_65_8i    c          1162658              454   \n",
              "464  i1162_65_8_15i  i1162_65_8i    c          1162658              454   \n",
              "\n",
              "     atom_id_num_y  atom_id2_num_int  \n",
              "0          1000272                 2  \n",
              "1          1000274                 3  \n",
              "2         10002710               348  \n",
              "3         10002710               348  \n",
              "4          1000275                 4  \n",
              "..             ...               ...  \n",
              "460      116265815               454  \n",
              "461      116265818               456  \n",
              "462      116265818               456  \n",
              "463      116265816               455  \n",
              "464      116265819               457  \n",
              "\n",
              "[465 rows x 11 columns]"
            ],
            "text/html": [
              "\n",
              "  <div id=\"df-2beb0004-104d-44be-87d0-5726886500fd\">\n",
              "    <div class=\"colab-df-container\">\n",
              "      <div>\n",
              "<style scoped>\n",
              "    .dataframe tbody tr th:only-of-type {\n",
              "        vertical-align: middle;\n",
              "    }\n",
              "\n",
              "    .dataframe tbody tr th {\n",
              "        vertical-align: top;\n",
              "    }\n",
              "\n",
              "    .dataframe thead th {\n",
              "        text-align: right;\n",
              "    }\n",
              "</style>\n",
              "<table border=\"1\" class=\"dataframe\">\n",
              "  <thead>\n",
              "    <tr style=\"text-align: right;\">\n",
              "      <th></th>\n",
              "      <th>atom_id_x</th>\n",
              "      <th>atom_id2</th>\n",
              "      <th>atom_id_num_x</th>\n",
              "      <th>atom_id2_num</th>\n",
              "      <th>atom_id_y</th>\n",
              "      <th>molecule_id</th>\n",
              "      <th>type</th>\n",
              "      <th>molecule_id_num</th>\n",
              "      <th>atom_id_num_int</th>\n",
              "      <th>atom_id_num_y</th>\n",
              "      <th>atom_id2_num_int</th>\n",
              "    </tr>\n",
              "  </thead>\n",
              "  <tbody>\n",
              "    <tr>\n",
              "      <th>0</th>\n",
              "      <td>i100_02_7_1i</td>\n",
              "      <td>i100_02_7_2i</td>\n",
              "      <td>1000271</td>\n",
              "      <td>1000272</td>\n",
              "      <td>i100_02_7_1i</td>\n",
              "      <td>i100_02_7i</td>\n",
              "      <td>o</td>\n",
              "      <td>100027</td>\n",
              "      <td>1</td>\n",
              "      <td>1000272</td>\n",
              "      <td>2</td>\n",
              "    </tr>\n",
              "    <tr>\n",
              "      <th>1</th>\n",
              "      <td>i100_02_7_2i</td>\n",
              "      <td>i100_02_7_4i</td>\n",
              "      <td>1000272</td>\n",
              "      <td>1000274</td>\n",
              "      <td>i100_02_7_2i</td>\n",
              "      <td>i100_02_7i</td>\n",
              "      <td>n</td>\n",
              "      <td>100027</td>\n",
              "      <td>2</td>\n",
              "      <td>1000274</td>\n",
              "      <td>3</td>\n",
              "    </tr>\n",
              "    <tr>\n",
              "      <th>2</th>\n",
              "      <td>i100_02_7_4i</td>\n",
              "      <td>i100_02_7_10i</td>\n",
              "      <td>1000274</td>\n",
              "      <td>10002710</td>\n",
              "      <td>i100_02_7_4i</td>\n",
              "      <td>i100_02_7i</td>\n",
              "      <td>c</td>\n",
              "      <td>100027</td>\n",
              "      <td>3</td>\n",
              "      <td>10002710</td>\n",
              "      <td>348</td>\n",
              "    </tr>\n",
              "    <tr>\n",
              "      <th>3</th>\n",
              "      <td>i100_02_7_9i</td>\n",
              "      <td>i100_02_7_10i</td>\n",
              "      <td>1000279</td>\n",
              "      <td>10002710</td>\n",
              "      <td>i100_02_7_9i</td>\n",
              "      <td>i100_02_7i</td>\n",
              "      <td>c</td>\n",
              "      <td>100027</td>\n",
              "      <td>8</td>\n",
              "      <td>10002710</td>\n",
              "      <td>348</td>\n",
              "    </tr>\n",
              "    <tr>\n",
              "      <th>4</th>\n",
              "      <td>i100_02_7_4i</td>\n",
              "      <td>i100_02_7_5i</td>\n",
              "      <td>1000274</td>\n",
              "      <td>1000275</td>\n",
              "      <td>i100_02_7_4i</td>\n",
              "      <td>i100_02_7i</td>\n",
              "      <td>c</td>\n",
              "      <td>100027</td>\n",
              "      <td>3</td>\n",
              "      <td>1000275</td>\n",
              "      <td>4</td>\n",
              "    </tr>\n",
              "    <tr>\n",
              "      <th>...</th>\n",
              "      <td>...</td>\n",
              "      <td>...</td>\n",
              "      <td>...</td>\n",
              "      <td>...</td>\n",
              "      <td>...</td>\n",
              "      <td>...</td>\n",
              "      <td>...</td>\n",
              "      <td>...</td>\n",
              "      <td>...</td>\n",
              "      <td>...</td>\n",
              "      <td>...</td>\n",
              "    </tr>\n",
              "    <tr>\n",
              "      <th>460</th>\n",
              "      <td>i1162_65_8_13i</td>\n",
              "      <td>i1162_65_8_15i</td>\n",
              "      <td>116265813</td>\n",
              "      <td>116265815</td>\n",
              "      <td>i1162_65_8_13i</td>\n",
              "      <td>i1162_65_8i</td>\n",
              "      <td>c</td>\n",
              "      <td>1162658</td>\n",
              "      <td>452</td>\n",
              "      <td>116265815</td>\n",
              "      <td>454</td>\n",
              "    </tr>\n",
              "    <tr>\n",
              "      <th>461</th>\n",
              "      <td>i1162_65_8_14i</td>\n",
              "      <td>i1162_65_8_18i</td>\n",
              "      <td>116265814</td>\n",
              "      <td>116265818</td>\n",
              "      <td>i1162_65_8_14i</td>\n",
              "      <td>i1162_65_8i</td>\n",
              "      <td>c</td>\n",
              "      <td>1162658</td>\n",
              "      <td>453</td>\n",
              "      <td>116265818</td>\n",
              "      <td>456</td>\n",
              "    </tr>\n",
              "    <tr>\n",
              "      <th>462</th>\n",
              "      <td>i1162_65_8_16i</td>\n",
              "      <td>i1162_65_8_18i</td>\n",
              "      <td>116265816</td>\n",
              "      <td>116265818</td>\n",
              "      <td>i1162_65_8_16i</td>\n",
              "      <td>i1162_65_8i</td>\n",
              "      <td>c</td>\n",
              "      <td>1162658</td>\n",
              "      <td>455</td>\n",
              "      <td>116265818</td>\n",
              "      <td>456</td>\n",
              "    </tr>\n",
              "    <tr>\n",
              "      <th>463</th>\n",
              "      <td>i1162_65_8_15i</td>\n",
              "      <td>i1162_65_8_16i</td>\n",
              "      <td>116265815</td>\n",
              "      <td>116265816</td>\n",
              "      <td>i1162_65_8_15i</td>\n",
              "      <td>i1162_65_8i</td>\n",
              "      <td>c</td>\n",
              "      <td>1162658</td>\n",
              "      <td>454</td>\n",
              "      <td>116265816</td>\n",
              "      <td>455</td>\n",
              "    </tr>\n",
              "    <tr>\n",
              "      <th>464</th>\n",
              "      <td>i1162_65_8_15i</td>\n",
              "      <td>i1162_65_8_19i</td>\n",
              "      <td>116265815</td>\n",
              "      <td>116265819</td>\n",
              "      <td>i1162_65_8_15i</td>\n",
              "      <td>i1162_65_8i</td>\n",
              "      <td>c</td>\n",
              "      <td>1162658</td>\n",
              "      <td>454</td>\n",
              "      <td>116265819</td>\n",
              "      <td>457</td>\n",
              "    </tr>\n",
              "  </tbody>\n",
              "</table>\n",
              "<p>465 rows × 11 columns</p>\n",
              "</div>\n",
              "      <button class=\"colab-df-convert\" onclick=\"convertToInteractive('df-2beb0004-104d-44be-87d0-5726886500fd')\"\n",
              "              title=\"Convert this dataframe to an interactive table.\"\n",
              "              style=\"display:none;\">\n",
              "        \n",
              "  <svg xmlns=\"http://www.w3.org/2000/svg\" height=\"24px\"viewBox=\"0 0 24 24\"\n",
              "       width=\"24px\">\n",
              "    <path d=\"M0 0h24v24H0V0z\" fill=\"none\"/>\n",
              "    <path d=\"M18.56 5.44l.94 2.06.94-2.06 2.06-.94-2.06-.94-.94-2.06-.94 2.06-2.06.94zm-11 1L8.5 8.5l.94-2.06 2.06-.94-2.06-.94L8.5 2.5l-.94 2.06-2.06.94zm10 10l.94 2.06.94-2.06 2.06-.94-2.06-.94-.94-2.06-.94 2.06-2.06.94z\"/><path d=\"M17.41 7.96l-1.37-1.37c-.4-.4-.92-.59-1.43-.59-.52 0-1.04.2-1.43.59L10.3 9.45l-7.72 7.72c-.78.78-.78 2.05 0 2.83L4 21.41c.39.39.9.59 1.41.59.51 0 1.02-.2 1.41-.59l7.78-7.78 2.81-2.81c.8-.78.8-2.07 0-2.86zM5.41 20L4 18.59l7.72-7.72 1.47 1.35L5.41 20z\"/>\n",
              "  </svg>\n",
              "      </button>\n",
              "      \n",
              "  <style>\n",
              "    .colab-df-container {\n",
              "      display:flex;\n",
              "      flex-wrap:wrap;\n",
              "      gap: 12px;\n",
              "    }\n",
              "\n",
              "    .colab-df-convert {\n",
              "      background-color: #E8F0FE;\n",
              "      border: none;\n",
              "      border-radius: 50%;\n",
              "      cursor: pointer;\n",
              "      display: none;\n",
              "      fill: #1967D2;\n",
              "      height: 32px;\n",
              "      padding: 0 0 0 0;\n",
              "      width: 32px;\n",
              "    }\n",
              "\n",
              "    .colab-df-convert:hover {\n",
              "      background-color: #E2EBFA;\n",
              "      box-shadow: 0px 1px 2px rgba(60, 64, 67, 0.3), 0px 1px 3px 1px rgba(60, 64, 67, 0.15);\n",
              "      fill: #174EA6;\n",
              "    }\n",
              "\n",
              "    [theme=dark] .colab-df-convert {\n",
              "      background-color: #3B4455;\n",
              "      fill: #D2E3FC;\n",
              "    }\n",
              "\n",
              "    [theme=dark] .colab-df-convert:hover {\n",
              "      background-color: #434B5C;\n",
              "      box-shadow: 0px 1px 3px 1px rgba(0, 0, 0, 0.15);\n",
              "      filter: drop-shadow(0px 1px 2px rgba(0, 0, 0, 0.3));\n",
              "      fill: #FFFFFF;\n",
              "    }\n",
              "  </style>\n",
              "\n",
              "      <script>\n",
              "        const buttonEl =\n",
              "          document.querySelector('#df-2beb0004-104d-44be-87d0-5726886500fd button.colab-df-convert');\n",
              "        buttonEl.style.display =\n",
              "          google.colab.kernel.accessAllowed ? 'block' : 'none';\n",
              "\n",
              "        async function convertToInteractive(key) {\n",
              "          const element = document.querySelector('#df-2beb0004-104d-44be-87d0-5726886500fd');\n",
              "          const dataTable =\n",
              "            await google.colab.kernel.invokeFunction('convertToInteractive',\n",
              "                                                     [key], {});\n",
              "          if (!dataTable) return;\n",
              "\n",
              "          const docLinkHtml = 'Like what you see? Visit the ' +\n",
              "            '<a target=\"_blank\" href=https://colab.research.google.com/notebooks/data_table.ipynb>data table notebook</a>'\n",
              "            + ' to learn more about interactive tables.';\n",
              "          element.innerHTML = '';\n",
              "          dataTable['output_type'] = 'display_data';\n",
              "          await google.colab.output.renderOutput(dataTable, element);\n",
              "          const docLink = document.createElement('div');\n",
              "          docLink.innerHTML = docLinkHtml;\n",
              "          element.appendChild(docLink);\n",
              "        }\n",
              "      </script>\n",
              "    </div>\n",
              "  </div>\n",
              "  "
            ]
          },
          "metadata": {},
          "execution_count": 26
        }
      ],
      "source": [
        "data_for_analysis"
      ]
    },
    {
      "cell_type": "code",
      "execution_count": 26,
      "metadata": {
        "id": "IiV8txIbaSGS"
      },
      "outputs": [],
      "source": [
        ""
      ]
    },
    {
      "cell_type": "code",
      "execution_count": 27,
      "metadata": {
        "colab": {
          "base_uri": "https://localhost:8080/"
        },
        "id": "riPeNpSx8cUA",
        "outputId": "a22fa924-c213-4fea-8ea9-fbcae4a0da81"
      },
      "outputs": [
        {
          "output_type": "execute_result",
          "data": {
            "text/plain": [
              "torch.Size([2, 465])"
            ]
          },
          "metadata": {},
          "execution_count": 27
        }
      ],
      "source": [
        "\n",
        "\n",
        "edge_index = torch.tensor([list(data_for_analysis['atom_id_num_int']), list(data_for_analysis['atom_id2_num_int'])], dtype=torch.int)\n",
        "\n",
        "edge_index.shape"
      ]
    },
    {
      "cell_type": "code",
      "execution_count": 28,
      "metadata": {
        "colab": {
          "base_uri": "https://localhost:8080/"
        },
        "id": "YQvb91IYSvm2",
        "outputId": "f96d55ad-18a5-471d-b82f-73db6166a0cd"
      },
      "outputs": [
        {
          "output_type": "stream",
          "name": "stdout",
          "text": [
            "Data(x=[56], edge_index=[2, 465])\n"
          ]
        }
      ],
      "source": [
        "x = list(data_for_analysis['molecule_id_num'].drop_duplicates())\n",
        "\n",
        "data = Data(x=x, edge_index=edge_index)\n",
        "\n",
        "print(data)"
      ]
    },
    {
      "cell_type": "code",
      "execution_count": 29,
      "metadata": {
        "id": "oOITkYs3wDIw"
      },
      "outputs": [],
      "source": [
        "# edge_index tensor defines the source and target nodes\n",
        "\n",
        "\n",
        "## Although the graph has only two edges, we need to define 4 index tuples to account for both directions of a edge.\n",
        "\n",
        "## This is NOT a list of index tuples."
      ]
    },
    {
      "cell_type": "code",
      "execution_count": 30,
      "metadata": {
        "colab": {
          "base_uri": "https://localhost:8080/"
        },
        "id": "wJXpx1S_xvF2",
        "outputId": "163e4035-3b87-49f2-8f3e-7ff32084efce"
      },
      "outputs": [
        {
          "output_type": "stream",
          "name": "stdout",
          "text": [
            "number of nodes 460\n",
            "number of edges 465\n",
            "number of node_features 0\n",
            "has_isolated_nodes True\n",
            "has_self_loops False\n",
            "is_directed True\n"
          ]
        },
        {
          "output_type": "stream",
          "name": "stderr",
          "text": [
            "/usr/local/lib/python3.7/dist-packages/torch_geometric/data/storage.py:276: UserWarning: Unable to accurately infer 'num_nodes' from the attribute set '{'x', 'edge_index'}'. Please explicitly set 'num_nodes' as an attribute of 'data' to suppress this warning\n",
            "  \" to suppress this warning\")\n"
          ]
        }
      ],
      "source": [
        "# You can find a complete list of all methods at https://pytorch-geometric.readthedocs.io/en/latest/modules/data.html#torch_geometric.data.Data\n",
        "\n",
        "print(\"number of nodes\", data.num_nodes)\n",
        "print(\"number of edges\", data.num_edges)\n",
        "print(\"number of node_features\",data.num_node_features)\n",
        "print(\"has_isolated_nodes\",data.has_isolated_nodes())\n",
        "print(\"has_self_loops\",data.has_self_loops())\n",
        "print(\"is_directed\",data.is_directed())"
      ]
    },
    {
      "cell_type": "code",
      "execution_count": null,
      "metadata": {
        "id": "AiLnDbKAyZu8"
      },
      "outputs": [],
      "source": [
        "# if you use GPU --> tansfer data object to GPU.\n",
        "device = torch.device('cuda')\n",
        "data = data.to(device)"
      ]
    },
    {
      "cell_type": "markdown",
      "metadata": {
        "id": "MLDBLLRELZDJ"
      },
      "source": [
        "## Exercise 2.1\n",
        "\n",
        "### Create a graph\n",
        "\n",
        "Write your code in the next cell\n",
        "\n",
        "\n",
        "\n"
      ]
    },
    {
      "cell_type": "code",
      "execution_count": 3,
      "metadata": {
        "colab": {
          "base_uri": "https://localhost:8080/"
        },
        "id": "4jh2s-AGhnSG",
        "outputId": "36f59325-1022-43b3-ffd3-d79ab9d5131c"
      },
      "outputs": [
        {
          "output_type": "stream",
          "name": "stdout",
          "text": [
            "Mounted at /content/drive\n"
          ]
        }
      ],
      "source": [
        "# from google.colab import drive\n",
        "# drive.mount('/content/drive')\n"
      ]
    },
    {
      "cell_type": "code",
      "source": [
        "from google.colab import drive\n",
        "drive.flush_and_unmount()"
      ],
      "metadata": {
        "id": "2BfxWnS7mDRw"
      },
      "execution_count": 4,
      "outputs": []
    },
    {
      "cell_type": "code",
      "execution_count": null,
      "metadata": {
        "id": "7I7RQoi2NLxI"
      },
      "outputs": [],
      "source": [
        "# 1) Create a graph with 10 nodes and 20 edges using PyG.\n",
        "\n",
        "# 2) Create an age feature for each node.\n",
        "\n",
        "# 3) print the number of nodes, edges, node features in the graph object\n",
        "\n",
        "# 4) print the edgelist of the graph"
      ]
    },
    {
      "cell_type": "code",
      "execution_count": null,
      "metadata": {
        "id": "ANpsBk5qwfd_"
      },
      "outputs": [],
      "source": [
        ""
      ]
    },
    {
      "cell_type": "markdown",
      "metadata": {
        "id": "Co9J2dwc4gW9"
      },
      "source": [
        "# Example 2: Node Classification with GNN\n",
        "\n",
        "The Cora dataset, the standard benchmark dataset for semi-supervised graph **node classification**.\n",
        "\n",
        "https://relational.fit.cvut.cz/dataset/CORA\n",
        "\n",
        "`Nodes`: the Cora dataset consists of 2,708 scientific publications classified into one of `7 classes`.\n",
        "\n",
        "`Links`: the citation network consists of 5,429 links.\n",
        "\n",
        "Each publication in the dataset is described by a 0/1-valued word vector indicating the absence/presence of the corresponding word from the dictionary. \n",
        "\n",
        "The dictionary consists of 1,433 unique words.\n",
        "\n"
      ]
    },
    {
      "cell_type": "code",
      "execution_count": null,
      "metadata": {
        "colab": {
          "base_uri": "https://localhost:8080/"
        },
        "id": "euRrsUkD4kMq",
        "outputId": "1c626c07-c6aa-47a5-bad1-c0c27b4e2769"
      },
      "outputs": [
        {
          "name": "stderr",
          "output_type": "stream",
          "text": [
            "Downloading https://github.com/kimiyoung/planetoid/raw/master/data/ind.cora.x\n",
            "Downloading https://github.com/kimiyoung/planetoid/raw/master/data/ind.cora.tx\n",
            "Downloading https://github.com/kimiyoung/planetoid/raw/master/data/ind.cora.allx\n",
            "Downloading https://github.com/kimiyoung/planetoid/raw/master/data/ind.cora.y\n",
            "Downloading https://github.com/kimiyoung/planetoid/raw/master/data/ind.cora.ty\n",
            "Downloading https://github.com/kimiyoung/planetoid/raw/master/data/ind.cora.ally\n",
            "Downloading https://github.com/kimiyoung/planetoid/raw/master/data/ind.cora.graph\n",
            "Downloading https://github.com/kimiyoung/planetoid/raw/master/data/ind.cora.test.index\n",
            "Processing...\n"
          ]
        },
        {
          "name": "stdout",
          "output_type": "stream",
          "text": [
            "7\n"
          ]
        },
        {
          "name": "stderr",
          "output_type": "stream",
          "text": [
            "Done!\n"
          ]
        },
        {
          "data": {
            "text/plain": [
              "1433"
            ]
          },
          "execution_count": 10,
          "metadata": {},
          "output_type": "execute_result"
        }
      ],
      "source": [
        "from torch_geometric.datasets import Planetoid\n",
        "\n",
        "dataset = Planetoid(root='/tmp/Cora', name='Cora')\n",
        "\n",
        "print(dataset.num_classes)\n",
        "\n",
        "dataset.num_node_features\n",
        "\n",
        "# a single, undirected citation graph"
      ]
    },
    {
      "cell_type": "code",
      "execution_count": null,
      "metadata": {
        "colab": {
          "base_uri": "https://localhost:8080/"
        },
        "id": "jYLWGptB4Ymn",
        "outputId": "628a0f0f-f976-4ee8-b133-3c34eab762a3"
      },
      "outputs": [
        {
          "data": {
            "text/plain": [
              "1433"
            ]
          },
          "execution_count": 51,
          "metadata": {},
          "output_type": "execute_result"
        }
      ],
      "source": [
        "dataset.num_node_features"
      ]
    },
    {
      "cell_type": "markdown",
      "metadata": {
        "id": "t5I8TZJx6U3h"
      },
      "source": [
        "The Data objects holds a label for each node, and additional node-level attributes: train_mask, val_mask and test_mask"
      ]
    },
    {
      "cell_type": "code",
      "execution_count": null,
      "metadata": {
        "colab": {
          "base_uri": "https://localhost:8080/"
        },
        "id": "CSk3htII6Ktk",
        "outputId": "b21a5c77-0226-4837-abdd-0ffe434af288"
      },
      "outputs": [
        {
          "name": "stdout",
          "output_type": "stream",
          "text": [
            "train nodes:  140\n",
            "validation nodes:  500\n",
            "test nodes:  1000\n"
          ]
        },
        {
          "data": {
            "text/plain": [
              "True"
            ]
          },
          "execution_count": 11,
          "metadata": {},
          "output_type": "execute_result"
        }
      ],
      "source": [
        "data = dataset[0]\n",
        "\n",
        "print('train nodes: ', data.train_mask.sum().item())\n",
        "\n",
        "print('validation nodes: ',data.val_mask.sum().item())\n",
        "\n",
        "print('test nodes: ',data.test_mask.sum().item())\n",
        "\n",
        "data.is_undirected()"
      ]
    },
    {
      "cell_type": "code",
      "execution_count": null,
      "metadata": {
        "colab": {
          "base_uri": "https://localhost:8080/"
        },
        "id": "pNR_LrfN-1Sf",
        "outputId": "de04eee1-4d17-41eb-d702-f00039ec8843"
      },
      "outputs": [
        {
          "name": "stdout",
          "output_type": "stream",
          "text": [
            "Data(x=[2708, 1433], edge_index=[2, 10556], y=[2708], train_mask=[2708], val_mask=[2708], test_mask=[2708])\n"
          ]
        }
      ],
      "source": [
        "print(data)"
      ]
    },
    {
      "cell_type": "markdown",
      "metadata": {
        "id": "OO4WdqVTw5Og"
      },
      "source": [
        "**How you need to create** a target binary variable for classification\n",
        "\n",
        "```\n",
        "## create the data object\n",
        "data = Data(x= x, edge_index=edge_index, num_classes = 2, y= df['y'])\n",
        "```"
      ]
    },
    {
      "cell_type": "markdown",
      "metadata": {
        "id": "khPnmgR7yQbO"
      },
      "source": [
        "**How you should define** [train], ['validation'], and ['test'] masks\n",
        "\n",
        "```\n",
        "\n",
        "## split into train, test and validation sets\n",
        "\n",
        "num_nodes = len(data.x)\n",
        "\n",
        "train_mask = torch.zeros(num_nodes, dtype=torch.bool)\n",
        "val_mask = torch.zeros(num_nodes, dtype=torch.bool)\n",
        "test_mask = torch.zeros(num_nodes, dtype=torch.bool)\n",
        "\n",
        "num_val = round(num_nodes * 0.1)\n",
        "num_test = round(num_nodes * 0.1)\n",
        "\n",
        "perm = torch.randperm(num_nodes)\n",
        "\n",
        "val_mask[perm[:num_val]] = True\n",
        "test_mask[perm[num_val:num_val + num_test]] = True\n",
        "train_mask[perm[num_val + num_test:]] = True\n",
        "\n",
        "data.val_mask = val_mask\n",
        "data.test_mask = test_mask\n",
        "data.train_mask = train_mask\n",
        "\n",
        "```\n"
      ]
    },
    {
      "cell_type": "markdown",
      "metadata": {
        "id": "susCHJiq8nPN"
      },
      "source": [
        "## GCN layer on the Cora citation dataset."
      ]
    },
    {
      "cell_type": "markdown",
      "metadata": {
        "id": "0iccDynH9SpK"
      },
      "source": [
        "Implement a two-layer GCN"
      ]
    },
    {
      "cell_type": "code",
      "execution_count": null,
      "metadata": {
        "id": "PLRrYAkI9RoB"
      },
      "outputs": [],
      "source": [
        "import torch\n",
        "import torch.nn.functional as F\n",
        "from torch_geometric.nn import GCNConv\n",
        "\n",
        "class GCN(torch.nn.Module):\n",
        "    def __init__(self):\n",
        "        super().__init__()\n",
        "        torch.manual_seed(1234567)\n",
        "        self.conv1 = GCNConv(dataset.num_node_features, 16) # input <number of features in x> --> output 16 features\n",
        "        self.conv2 = GCNConv(16, dataset.num_classes)  # input 16 features --> out puts 1 of 7 classes\n",
        "\n",
        "    def forward(self, data):\n",
        "        x, edge_index = data.x, data.edge_index\n",
        "        x = self.conv1(x, edge_index)\n",
        "        x = F.relu(x)\n",
        "        x = F.dropout(x, training=self.training)\n",
        "        x = self.conv2(x, edge_index)\n",
        "        return x"
      ]
    },
    {
      "cell_type": "code",
      "execution_count": null,
      "metadata": {
        "colab": {
          "base_uri": "https://localhost:8080/"
        },
        "id": "GuHsEO1Z_1v_",
        "outputId": "74e9ec1c-1e12-4738-b64d-d91d41ffc65a"
      },
      "outputs": [
        {
          "name": "stdout",
          "output_type": "stream",
          "text": [
            "GCN(\n",
            "  (conv1): GCNConv(1433, 16)\n",
            "  (conv2): GCNConv(16, 7)\n",
            ")\n"
          ]
        }
      ],
      "source": [
        "# see model configuration: 1,433 features enters the first layer --> 16 --> predict one of 7 classes\n",
        "model = GCN()\n",
        "print(model)"
      ]
    },
    {
      "cell_type": "code",
      "execution_count": null,
      "metadata": {
        "id": "etkhFQt3Bhyy"
      },
      "outputs": [],
      "source": [
        "# Helper function for visualization.\n",
        "%matplotlib inline\n",
        "import matplotlib.pyplot as plt\n",
        "from sklearn.manifold import TSNE\n",
        "\n",
        "def visualize(h, color):\n",
        "    z = TSNE(n_components=2).fit_transform(h.detach().cpu().numpy())\n",
        "\n",
        "    plt.figure(figsize=(10,10))\n",
        "    plt.xticks([])\n",
        "    plt.yticks([])\n",
        "\n",
        "    plt.scatter(z[:, 0], z[:, 1], s=70, c=color, cmap=\"Set2\")\n",
        "    plt.show()"
      ]
    },
    {
      "cell_type": "code",
      "execution_count": null,
      "metadata": {
        "colab": {
          "base_uri": "https://localhost:8080/",
          "height": 647
        },
        "id": "L1aHGBZrAiNU",
        "outputId": "b8c5cd8a-b2d1-4de9-ac94-f3cf1412705a"
      },
      "outputs": [
        {
          "name": "stderr",
          "output_type": "stream",
          "text": [
            "/usr/local/lib/python3.7/dist-packages/sklearn/manifold/_t_sne.py:783: FutureWarning: The default initialization in TSNE will change from 'random' to 'pca' in 1.2.\n",
            "  FutureWarning,\n",
            "/usr/local/lib/python3.7/dist-packages/sklearn/manifold/_t_sne.py:793: FutureWarning: The default learning rate in TSNE will change from 200.0 to 'auto' in 1.2.\n",
            "  FutureWarning,\n"
          ]
        },
        {
          "data": {
            "image/png": "[encoded data removed]",
            "text/plain": [
              "<Figure size 720x720 with 1 Axes>"
            ]
          },
          "metadata": {},
          "output_type": "display_data"
        }
      ],
      "source": [
        "model = GCN()\n",
        "model.eval() # do not trian. use the model for evaluation (no gradient search)\n",
        "\n",
        "out = model(data)  # get node embeddings without training the model\n",
        "visualize(out, color=data.y)"
      ]
    },
    {
      "cell_type": "code",
      "execution_count": null,
      "metadata": {
        "colab": {
          "base_uri": "https://localhost:8080/"
        },
        "id": "qrDyQxWf-vO7",
        "outputId": "b7d1fc4d-0d34-4a7d-c425-9f59d0c79119"
      },
      "outputs": [
        {
          "name": "stdout",
          "output_type": "stream",
          "text": [
            "Epoch: 001, Loss: 1.9554\n",
            "Epoch: 002, Loss: 1.8619\n",
            "Epoch: 003, Loss: 1.7662\n",
            "Epoch: 004, Loss: 1.6488\n",
            "Epoch: 005, Loss: 1.5146\n",
            "Epoch: 006, Loss: 1.3803\n",
            "Epoch: 007, Loss: 1.2630\n",
            "Epoch: 008, Loss: 1.1256\n",
            "Epoch: 009, Loss: 1.0111\n",
            "Epoch: 010, Loss: 0.9141\n",
            "Epoch: 011, Loss: 0.8171\n",
            "Epoch: 012, Loss: 0.6771\n",
            "Epoch: 013, Loss: 0.6491\n",
            "Epoch: 014, Loss: 0.5578\n",
            "Epoch: 015, Loss: 0.4854\n",
            "Epoch: 016, Loss: 0.4470\n",
            "Epoch: 017, Loss: 0.3752\n",
            "Epoch: 018, Loss: 0.3723\n",
            "Epoch: 019, Loss: 0.3181\n",
            "Epoch: 020, Loss: 0.2982\n",
            "Epoch: 021, Loss: 0.2438\n",
            "Epoch: 022, Loss: 0.2470\n",
            "Epoch: 023, Loss: 0.2045\n",
            "Epoch: 024, Loss: 0.1884\n",
            "Epoch: 025, Loss: 0.1320\n",
            "Epoch: 026, Loss: 0.1784\n",
            "Epoch: 027, Loss: 0.1303\n",
            "Epoch: 028, Loss: 0.1247\n",
            "Epoch: 029, Loss: 0.1185\n",
            "Epoch: 030, Loss: 0.1160\n",
            "Epoch: 031, Loss: 0.1158\n",
            "Epoch: 032, Loss: 0.1169\n",
            "Epoch: 033, Loss: 0.0870\n",
            "Epoch: 034, Loss: 0.1127\n",
            "Epoch: 035, Loss: 0.0906\n",
            "Epoch: 036, Loss: 0.0784\n",
            "Epoch: 037, Loss: 0.0673\n",
            "Epoch: 038, Loss: 0.0609\n",
            "Epoch: 039, Loss: 0.0701\n",
            "Epoch: 040, Loss: 0.0642\n",
            "Epoch: 041, Loss: 0.0700\n",
            "Epoch: 042, Loss: 0.0645\n",
            "Epoch: 043, Loss: 0.0619\n",
            "Epoch: 044, Loss: 0.0689\n",
            "Epoch: 045, Loss: 0.0392\n",
            "Epoch: 046, Loss: 0.0482\n",
            "Epoch: 047, Loss: 0.0449\n",
            "Epoch: 048, Loss: 0.0496\n",
            "Epoch: 049, Loss: 0.0427\n",
            "Epoch: 050, Loss: 0.0590\n"
          ]
        }
      ],
      "source": [
        "device = torch.device('cuda' if torch.cuda.is_available() else 'cpu')\n",
        "model = GCN().to(device)\n",
        "data = dataset[0].to(device)\n",
        "\n",
        "# Adam optimization is a stochastic gradient descent method that is based on adaptive estimation of first-order and second-order moments.\n",
        "optimizer = torch.optim.Adam(model.parameters(), lr=0.01, weight_decay=5e-4)\n",
        "criterion = torch.nn.CrossEntropyLoss()\n",
        "\n",
        "model.train() # turn model training mode on, since we switched it to eval before\n",
        "\n",
        "def train():\n",
        "      model.train()\n",
        "      optimizer.zero_grad() # Clear gradients.\n",
        "      out = model(data)  # Perform a single forward pass.\n",
        "      loss = criterion(out[data.train_mask], data.y[data.train_mask])  # Compute the loss based on training nodes.\n",
        "      loss.backward()  # Derive gradients.\n",
        "      optimizer.step()  # Update parameters based on gradients.\n",
        "      return loss\n",
        "\n",
        "# define number of epochs\n",
        "for epoch in range(1,51):\n",
        "    loss = train()\n",
        "    print(f'Epoch: {epoch:03d}, Loss: {loss:.4f}')"
      ]
    },
    {
      "cell_type": "markdown",
      "metadata": {
        "id": "nGTZXMNn-_H-"
      },
      "source": [
        "Evaluate our model on the test nodes:"
      ]
    },
    {
      "cell_type": "code",
      "execution_count": null,
      "metadata": {
        "colab": {
          "base_uri": "https://localhost:8080/"
        },
        "id": "pMhdzyfX-_sQ",
        "outputId": "21d37819-5f99-49c4-892d-0b7ec1e8f1fe"
      },
      "outputs": [
        {
          "name": "stdout",
          "output_type": "stream",
          "text": [
            "Accuracy: 0.7920\n"
          ]
        }
      ],
      "source": [
        "def test():\n",
        "      model.eval()\n",
        "      out = model(data)\n",
        "      pred = out.argmax(dim=1)  # Use the class with highest probability.\n",
        "      test_correct = (pred[data.test_mask] == data.y[data.test_mask]).sum()  # Check against ground-truth labels.\n",
        "      test_acc = int(test_correct) / int(data.test_mask.sum())  # Derive ratio of correct predictions.\n",
        "      return test_acc\n",
        "\n",
        "test_acc = test()\n",
        "print(f'Accuracy: {test_acc:.4f}')"
      ]
    },
    {
      "cell_type": "code",
      "execution_count": null,
      "metadata": {
        "colab": {
          "base_uri": "https://localhost:8080/"
        },
        "id": "5YX24LUZx_j6",
        "outputId": "fc05690a-6d56-4009-c18f-c0e1a84ed6ec"
      },
      "outputs": [
        {
          "name": "stdout",
          "output_type": "stream",
          "text": [
            "Confusion Matrix [Actual (rows) X Predicted(columns)]: \n",
            " [[101   4   3   5   6   3   8]\n",
            " [  6  77   3   3   0   2   0]\n",
            " [  3   5 133   3   0   0   0]\n",
            " [ 30  11  12 223  28  12   3]\n",
            " [  9   3   1   4 126   5   1]\n",
            " [  9   3   4   0   0  79   8]\n",
            " [  6   1   0   1   0   3  53]]\n",
            "              precision    recall  f1-score   support\n",
            "\n",
            "           0       0.62      0.78      0.69       130\n",
            "           1       0.74      0.85      0.79        91\n",
            "           2       0.85      0.92      0.89       144\n",
            "           3       0.93      0.70      0.80       319\n",
            "           4       0.79      0.85      0.82       149\n",
            "           5       0.76      0.77      0.76       103\n",
            "           6       0.73      0.83      0.77        64\n",
            "\n",
            "    accuracy                           0.79      1000\n",
            "   macro avg       0.77      0.81      0.79      1000\n",
            "weighted avg       0.81      0.79      0.79      1000\n",
            "\n",
            "accuracy_score 0.792\n",
            "Sensitivity :  0.927710843373494\n",
            "Specificity :  0.9619047619047619\n"
          ]
        }
      ],
      "source": [
        "from sklearn.metrics import classification_report\n",
        "from sklearn.metrics import accuracy_score\n",
        "from sklearn.metrics import confusion_matrix\n",
        "\n",
        "out = model(data) \n",
        "\n",
        "y_pred = out.argmax(dim=1)\n",
        "y_pred = y_pred[data.test_mask].cpu()\n",
        "\n",
        "y_test = data.y[data.test_mask].cpu()\n",
        "\n",
        "cm = confusion_matrix(y_test,y_pred)\n",
        "print('Confusion Matrix [Actual (rows) X Predicted(columns)]: \\n', cm)\n",
        "print(classification_report(y_test,y_pred))\n",
        "print('accuracy_score', accuracy_score(y_test, y_pred))\n",
        "\n",
        "sensitivity1 = cm[1,1]/(cm[1,1]+cm[1,0])\n",
        "print('Sensitivity : ', sensitivity1 )\n",
        "\n",
        "specificity1 = cm[0,0]/(cm[0,0]+cm[0,1])\n",
        "print('Specificity : ', specificity1)"
      ]
    },
    {
      "cell_type": "markdown",
      "metadata": {
        "id": "LRSqcDZ5N6_b"
      },
      "source": [
        "## Exercise 2.2."
      ]
    },
    {
      "cell_type": "code",
      "execution_count": null,
      "metadata": {
        "id": "cDXOI_2RN9Ie"
      },
      "outputs": [],
      "source": [
        "# Use the classification problem from Ex1 and represent it as a graph.\n",
        "# Adust the code in Example 2 to your graph, run the code, report, and explain the results"
      ]
    },
    {
      "cell_type": "markdown",
      "metadata": {
        "id": "hnEg9G3H_d4t"
      },
      "source": [
        "# Example 3: Recommender systems [Bonus]\n",
        "\n",
        "This example is based on [example(a)](https://colab.research.google.com/github/tomasonjo/blogs/blob/master/pyg2neo/Movie_recommendations.ipynb#scrollTo=v_F-Vr4Yz2A9) and [example(b)](https://pytorch-geometric.readthedocs.io/en/latest/notes/load_csv.html)\n",
        "\n",
        "In this example we will load a graph from a  .csv file and create the network object.\n",
        "\n",
        "Then, we will train a GNN model to generate movie recomendations of users."
      ]
    },
    {
      "cell_type": "code",
      "execution_count": null,
      "metadata": {
        "colab": {
          "base_uri": "https://localhost:8080/"
        },
        "id": "sb3Pp7ul_eTm",
        "outputId": "12c4ea4d-e2d5-4cca-acfe-6ecceb158ca6"
      },
      "outputs": [
        {
          "name": "stderr",
          "output_type": "stream",
          "text": [
            "Downloading https://files.grouplens.org/datasets/movielens/ml-latest-small.zip\n",
            "Extracting ./ml-latest-small.zip\n"
          ]
        }
      ],
      "source": [
        "from torch_geometric.data import download_url, extract_zip\n",
        "\n",
        "url = 'https://files.grouplens.org/datasets/movielens/ml-latest-small.zip'\n",
        "extract_zip(download_url(url, '.'), '.')\n",
        "\n",
        "movie_path = './movies.csv'#'./ml-latest-small/movies.csv'\n",
        "rating_path =  './ratings.csv' #'./ml-latest-small/ratings.csv'ß"
      ]
    },
    {
      "cell_type": "code",
      "execution_count": null,
      "metadata": {
        "id": "QVdRxDFjaVfW"
      },
      "outputs": [],
      "source": [
        "movie_path = './ml-latest-small/movies.csv'\n",
        "rating_path = './ml-latest-small/ratings.csv'"
      ]
    },
    {
      "cell_type": "markdown",
      "metadata": {
        "id": "0NC6q8rBizyC"
      },
      "source": [
        "load the data and observe it"
      ]
    },
    {
      "cell_type": "code",
      "execution_count": null,
      "metadata": {
        "colab": {
          "base_uri": "https://localhost:8080/",
          "height": 424
        },
        "id": "ytUGueENjRR4",
        "outputId": "b10fd115-4eb8-4fed-f18f-10b6d087a572"
      },
      "outputs": [
        {
          "data": {
            "text/html": [
              "\n",
              "  <div id=\"df-5b5a4181-30a4-45cb-a42c-fa6c9a0426fa\">\n",
              "    <div class=\"colab-df-container\">\n",
              "      <div>\n",
              "<style scoped>\n",
              "    .dataframe tbody tr th:only-of-type {\n",
              "        vertical-align: middle;\n",
              "    }\n",
              "\n",
              "    .dataframe tbody tr th {\n",
              "        vertical-align: top;\n",
              "    }\n",
              "\n",
              "    .dataframe thead th {\n",
              "        text-align: right;\n",
              "    }\n",
              "</style>\n",
              "<table border=\"1\" class=\"dataframe\">\n",
              "  <thead>\n",
              "    <tr style=\"text-align: right;\">\n",
              "      <th></th>\n",
              "      <th>movieId</th>\n",
              "      <th>title</th>\n",
              "      <th>genres</th>\n",
              "    </tr>\n",
              "  </thead>\n",
              "  <tbody>\n",
              "    <tr>\n",
              "      <th>0</th>\n",
              "      <td>1</td>\n",
              "      <td>Toy Story (1995)</td>\n",
              "      <td>Adventure|Animation|Children|Comedy|Fantasy</td>\n",
              "    </tr>\n",
              "    <tr>\n",
              "      <th>1</th>\n",
              "      <td>2</td>\n",
              "      <td>Jumanji (1995)</td>\n",
              "      <td>Adventure|Children|Fantasy</td>\n",
              "    </tr>\n",
              "    <tr>\n",
              "      <th>2</th>\n",
              "      <td>3</td>\n",
              "      <td>Grumpier Old Men (1995)</td>\n",
              "      <td>Comedy|Romance</td>\n",
              "    </tr>\n",
              "    <tr>\n",
              "      <th>3</th>\n",
              "      <td>4</td>\n",
              "      <td>Waiting to Exhale (1995)</td>\n",
              "      <td>Comedy|Drama|Romance</td>\n",
              "    </tr>\n",
              "    <tr>\n",
              "      <th>4</th>\n",
              "      <td>5</td>\n",
              "      <td>Father of the Bride Part II (1995)</td>\n",
              "      <td>Comedy</td>\n",
              "    </tr>\n",
              "    <tr>\n",
              "      <th>...</th>\n",
              "      <td>...</td>\n",
              "      <td>...</td>\n",
              "      <td>...</td>\n",
              "    </tr>\n",
              "    <tr>\n",
              "      <th>9737</th>\n",
              "      <td>193581</td>\n",
              "      <td>Black Butler: Book of the Atlantic (2017)</td>\n",
              "      <td>Action|Animation|Comedy|Fantasy</td>\n",
              "    </tr>\n",
              "    <tr>\n",
              "      <th>9738</th>\n",
              "      <td>193583</td>\n",
              "      <td>No Game No Life: Zero (2017)</td>\n",
              "      <td>Animation|Comedy|Fantasy</td>\n",
              "    </tr>\n",
              "    <tr>\n",
              "      <th>9739</th>\n",
              "      <td>193585</td>\n",
              "      <td>Flint (2017)</td>\n",
              "      <td>Drama</td>\n",
              "    </tr>\n",
              "    <tr>\n",
              "      <th>9740</th>\n",
              "      <td>193587</td>\n",
              "      <td>Bungo Stray Dogs: Dead Apple (2018)</td>\n",
              "      <td>Action|Animation</td>\n",
              "    </tr>\n",
              "    <tr>\n",
              "      <th>9741</th>\n",
              "      <td>193609</td>\n",
              "      <td>Andrew Dice Clay: Dice Rules (1991)</td>\n",
              "      <td>Comedy</td>\n",
              "    </tr>\n",
              "  </tbody>\n",
              "</table>\n",
              "<p>9742 rows × 3 columns</p>\n",
              "</div>\n",
              "      <button class=\"colab-df-convert\" onclick=\"convertToInteractive('df-5b5a4181-30a4-45cb-a42c-fa6c9a0426fa')\"\n",
              "              title=\"Convert this dataframe to an interactive table.\"\n",
              "              style=\"display:none;\">\n",
              "        \n",
              "  <svg xmlns=\"http://www.w3.org/2000/svg\" height=\"24px\"viewBox=\"0 0 24 24\"\n",
              "       width=\"24px\">\n",
              "    <path d=\"M0 0h24v24H0V0z\" fill=\"none\"/>\n",
              "    <path d=\"M18.56 5.44l.94 2.06.94-2.06 2.06-.94-2.06-.94-.94-2.06-.94 2.06-2.06.94zm-11 1L8.5 8.5l.94-2.06 2.06-.94-2.06-.94L8.5 2.5l-.94 2.06-2.06.94zm10 10l.94 2.06.94-2.06 2.06-.94-2.06-.94-.94-2.06-.94 2.06-2.06.94z\"/><path d=\"M17.41 7.96l-1.37-1.37c-.4-.4-.92-.59-1.43-.59-.52 0-1.04.2-1.43.59L10.3 9.45l-7.72 7.72c-.78.78-.78 2.05 0 2.83L4 21.41c.39.39.9.59 1.41.59.51 0 1.02-.2 1.41-.59l7.78-7.78 2.81-2.81c.8-.78.8-2.07 0-2.86zM5.41 20L4 18.59l7.72-7.72 1.47 1.35L5.41 20z\"/>\n",
              "  </svg>\n",
              "      </button>\n",
              "      \n",
              "  <style>\n",
              "    .colab-df-container {\n",
              "      display:flex;\n",
              "      flex-wrap:wrap;\n",
              "      gap: 12px;\n",
              "    }\n",
              "\n",
              "    .colab-df-convert {\n",
              "      background-color: #E8F0FE;\n",
              "      border: none;\n",
              "      border-radius: 50%;\n",
              "      cursor: pointer;\n",
              "      display: none;\n",
              "      fill: #1967D2;\n",
              "      height: 32px;\n",
              "      padding: 0 0 0 0;\n",
              "      width: 32px;\n",
              "    }\n",
              "\n",
              "    .colab-df-convert:hover {\n",
              "      background-color: #E2EBFA;\n",
              "      box-shadow: 0px 1px 2px rgba(60, 64, 67, 0.3), 0px 1px 3px 1px rgba(60, 64, 67, 0.15);\n",
              "      fill: #174EA6;\n",
              "    }\n",
              "\n",
              "    [theme=dark] .colab-df-convert {\n",
              "      background-color: #3B4455;\n",
              "      fill: #D2E3FC;\n",
              "    }\n",
              "\n",
              "    [theme=dark] .colab-df-convert:hover {\n",
              "      background-color: #434B5C;\n",
              "      box-shadow: 0px 1px 3px 1px rgba(0, 0, 0, 0.15);\n",
              "      filter: drop-shadow(0px 1px 2px rgba(0, 0, 0, 0.3));\n",
              "      fill: #FFFFFF;\n",
              "    }\n",
              "  </style>\n",
              "\n",
              "      <script>\n",
              "        const buttonEl =\n",
              "          document.querySelector('#df-5b5a4181-30a4-45cb-a42c-fa6c9a0426fa button.colab-df-convert');\n",
              "        buttonEl.style.display =\n",
              "          google.colab.kernel.accessAllowed ? 'block' : 'none';\n",
              "\n",
              "        async function convertToInteractive(key) {\n",
              "          const element = document.querySelector('#df-5b5a4181-30a4-45cb-a42c-fa6c9a0426fa');\n",
              "          const dataTable =\n",
              "            await google.colab.kernel.invokeFunction('convertToInteractive',\n",
              "                                                     [key], {});\n",
              "          if (!dataTable) return;\n",
              "\n",
              "          const docLinkHtml = 'Like what you see? Visit the ' +\n",
              "            '<a target=\"_blank\" href=https://colab.research.google.com/notebooks/data_table.ipynb>data table notebook</a>'\n",
              "            + ' to learn more about interactive tables.';\n",
              "          element.innerHTML = '';\n",
              "          dataTable['output_type'] = 'display_data';\n",
              "          await google.colab.output.renderOutput(dataTable, element);\n",
              "          const docLink = document.createElement('div');\n",
              "          docLink.innerHTML = docLinkHtml;\n",
              "          element.appendChild(docLink);\n",
              "        }\n",
              "      </script>\n",
              "    </div>\n",
              "  </div>\n",
              "  "
            ],
            "text/plain": [
              "      movieId                                      title  \\\n",
              "0           1                           Toy Story (1995)   \n",
              "1           2                             Jumanji (1995)   \n",
              "2           3                    Grumpier Old Men (1995)   \n",
              "3           4                   Waiting to Exhale (1995)   \n",
              "4           5         Father of the Bride Part II (1995)   \n",
              "...       ...                                        ...   \n",
              "9737   193581  Black Butler: Book of the Atlantic (2017)   \n",
              "9738   193583               No Game No Life: Zero (2017)   \n",
              "9739   193585                               Flint (2017)   \n",
              "9740   193587        Bungo Stray Dogs: Dead Apple (2018)   \n",
              "9741   193609        Andrew Dice Clay: Dice Rules (1991)   \n",
              "\n",
              "                                           genres  \n",
              "0     Adventure|Animation|Children|Comedy|Fantasy  \n",
              "1                      Adventure|Children|Fantasy  \n",
              "2                                  Comedy|Romance  \n",
              "3                            Comedy|Drama|Romance  \n",
              "4                                          Comedy  \n",
              "...                                           ...  \n",
              "9737              Action|Animation|Comedy|Fantasy  \n",
              "9738                     Animation|Comedy|Fantasy  \n",
              "9739                                        Drama  \n",
              "9740                             Action|Animation  \n",
              "9741                                       Comedy  \n",
              "\n",
              "[9742 rows x 3 columns]"
            ]
          },
          "execution_count": 24,
          "metadata": {},
          "output_type": "execute_result"
        }
      ],
      "source": [
        "# movies table\n",
        "import pandas as pd\n",
        "\n",
        "pd.read_csv(movie_path)"
      ]
    },
    {
      "cell_type": "code",
      "execution_count": null,
      "metadata": {
        "colab": {
          "base_uri": "https://localhost:8080/",
          "height": 424
        },
        "id": "LoEbcvSjixx0",
        "outputId": "abcef941-79e9-47b6-cc0c-f6235919712c"
      },
      "outputs": [
        {
          "data": {
            "text/html": [
              "\n",
              "  <div id=\"df-8a2dfe2e-839c-47eb-a25b-36fdbf2fdf2b\">\n",
              "    <div class=\"colab-df-container\">\n",
              "      <div>\n",
              "<style scoped>\n",
              "    .dataframe tbody tr th:only-of-type {\n",
              "        vertical-align: middle;\n",
              "    }\n",
              "\n",
              "    .dataframe tbody tr th {\n",
              "        vertical-align: top;\n",
              "    }\n",
              "\n",
              "    .dataframe thead th {\n",
              "        text-align: right;\n",
              "    }\n",
              "</style>\n",
              "<table border=\"1\" class=\"dataframe\">\n",
              "  <thead>\n",
              "    <tr style=\"text-align: right;\">\n",
              "      <th></th>\n",
              "      <th>userId</th>\n",
              "      <th>movieId</th>\n",
              "      <th>rating</th>\n",
              "      <th>timestamp</th>\n",
              "    </tr>\n",
              "  </thead>\n",
              "  <tbody>\n",
              "    <tr>\n",
              "      <th>0</th>\n",
              "      <td>1</td>\n",
              "      <td>1</td>\n",
              "      <td>4.0</td>\n",
              "      <td>964982703</td>\n",
              "    </tr>\n",
              "    <tr>\n",
              "      <th>1</th>\n",
              "      <td>1</td>\n",
              "      <td>3</td>\n",
              "      <td>4.0</td>\n",
              "      <td>964981247</td>\n",
              "    </tr>\n",
              "    <tr>\n",
              "      <th>2</th>\n",
              "      <td>1</td>\n",
              "      <td>6</td>\n",
              "      <td>4.0</td>\n",
              "      <td>964982224</td>\n",
              "    </tr>\n",
              "    <tr>\n",
              "      <th>3</th>\n",
              "      <td>1</td>\n",
              "      <td>47</td>\n",
              "      <td>5.0</td>\n",
              "      <td>964983815</td>\n",
              "    </tr>\n",
              "    <tr>\n",
              "      <th>4</th>\n",
              "      <td>1</td>\n",
              "      <td>50</td>\n",
              "      <td>5.0</td>\n",
              "      <td>964982931</td>\n",
              "    </tr>\n",
              "    <tr>\n",
              "      <th>...</th>\n",
              "      <td>...</td>\n",
              "      <td>...</td>\n",
              "      <td>...</td>\n",
              "      <td>...</td>\n",
              "    </tr>\n",
              "    <tr>\n",
              "      <th>100831</th>\n",
              "      <td>610</td>\n",
              "      <td>166534</td>\n",
              "      <td>4.0</td>\n",
              "      <td>1493848402</td>\n",
              "    </tr>\n",
              "    <tr>\n",
              "      <th>100832</th>\n",
              "      <td>610</td>\n",
              "      <td>168248</td>\n",
              "      <td>5.0</td>\n",
              "      <td>1493850091</td>\n",
              "    </tr>\n",
              "    <tr>\n",
              "      <th>100833</th>\n",
              "      <td>610</td>\n",
              "      <td>168250</td>\n",
              "      <td>5.0</td>\n",
              "      <td>1494273047</td>\n",
              "    </tr>\n",
              "    <tr>\n",
              "      <th>100834</th>\n",
              "      <td>610</td>\n",
              "      <td>168252</td>\n",
              "      <td>5.0</td>\n",
              "      <td>1493846352</td>\n",
              "    </tr>\n",
              "    <tr>\n",
              "      <th>100835</th>\n",
              "      <td>610</td>\n",
              "      <td>170875</td>\n",
              "      <td>3.0</td>\n",
              "      <td>1493846415</td>\n",
              "    </tr>\n",
              "  </tbody>\n",
              "</table>\n",
              "<p>100836 rows × 4 columns</p>\n",
              "</div>\n",
              "      <button class=\"colab-df-convert\" onclick=\"convertToInteractive('df-8a2dfe2e-839c-47eb-a25b-36fdbf2fdf2b')\"\n",
              "              title=\"Convert this dataframe to an interactive table.\"\n",
              "              style=\"display:none;\">\n",
              "        \n",
              "  <svg xmlns=\"http://www.w3.org/2000/svg\" height=\"24px\"viewBox=\"0 0 24 24\"\n",
              "       width=\"24px\">\n",
              "    <path d=\"M0 0h24v24H0V0z\" fill=\"none\"/>\n",
              "    <path d=\"M18.56 5.44l.94 2.06.94-2.06 2.06-.94-2.06-.94-.94-2.06-.94 2.06-2.06.94zm-11 1L8.5 8.5l.94-2.06 2.06-.94-2.06-.94L8.5 2.5l-.94 2.06-2.06.94zm10 10l.94 2.06.94-2.06 2.06-.94-2.06-.94-.94-2.06-.94 2.06-2.06.94z\"/><path d=\"M17.41 7.96l-1.37-1.37c-.4-.4-.92-.59-1.43-.59-.52 0-1.04.2-1.43.59L10.3 9.45l-7.72 7.72c-.78.78-.78 2.05 0 2.83L4 21.41c.39.39.9.59 1.41.59.51 0 1.02-.2 1.41-.59l7.78-7.78 2.81-2.81c.8-.78.8-2.07 0-2.86zM5.41 20L4 18.59l7.72-7.72 1.47 1.35L5.41 20z\"/>\n",
              "  </svg>\n",
              "      </button>\n",
              "      \n",
              "  <style>\n",
              "    .colab-df-container {\n",
              "      display:flex;\n",
              "      flex-wrap:wrap;\n",
              "      gap: 12px;\n",
              "    }\n",
              "\n",
              "    .colab-df-convert {\n",
              "      background-color: #E8F0FE;\n",
              "      border: none;\n",
              "      border-radius: 50%;\n",
              "      cursor: pointer;\n",
              "      display: none;\n",
              "      fill: #1967D2;\n",
              "      height: 32px;\n",
              "      padding: 0 0 0 0;\n",
              "      width: 32px;\n",
              "    }\n",
              "\n",
              "    .colab-df-convert:hover {\n",
              "      background-color: #E2EBFA;\n",
              "      box-shadow: 0px 1px 2px rgba(60, 64, 67, 0.3), 0px 1px 3px 1px rgba(60, 64, 67, 0.15);\n",
              "      fill: #174EA6;\n",
              "    }\n",
              "\n",
              "    [theme=dark] .colab-df-convert {\n",
              "      background-color: #3B4455;\n",
              "      fill: #D2E3FC;\n",
              "    }\n",
              "\n",
              "    [theme=dark] .colab-df-convert:hover {\n",
              "      background-color: #434B5C;\n",
              "      box-shadow: 0px 1px 3px 1px rgba(0, 0, 0, 0.15);\n",
              "      filter: drop-shadow(0px 1px 2px rgba(0, 0, 0, 0.3));\n",
              "      fill: #FFFFFF;\n",
              "    }\n",
              "  </style>\n",
              "\n",
              "      <script>\n",
              "        const buttonEl =\n",
              "          document.querySelector('#df-8a2dfe2e-839c-47eb-a25b-36fdbf2fdf2b button.colab-df-convert');\n",
              "        buttonEl.style.display =\n",
              "          google.colab.kernel.accessAllowed ? 'block' : 'none';\n",
              "\n",
              "        async function convertToInteractive(key) {\n",
              "          const element = document.querySelector('#df-8a2dfe2e-839c-47eb-a25b-36fdbf2fdf2b');\n",
              "          const dataTable =\n",
              "            await google.colab.kernel.invokeFunction('convertToInteractive',\n",
              "                                                     [key], {});\n",
              "          if (!dataTable) return;\n",
              "\n",
              "          const docLinkHtml = 'Like what you see? Visit the ' +\n",
              "            '<a target=\"_blank\" href=https://colab.research.google.com/notebooks/data_table.ipynb>data table notebook</a>'\n",
              "            + ' to learn more about interactive tables.';\n",
              "          element.innerHTML = '';\n",
              "          dataTable['output_type'] = 'display_data';\n",
              "          await google.colab.output.renderOutput(dataTable, element);\n",
              "          const docLink = document.createElement('div');\n",
              "          docLink.innerHTML = docLinkHtml;\n",
              "          element.appendChild(docLink);\n",
              "        }\n",
              "      </script>\n",
              "    </div>\n",
              "  </div>\n",
              "  "
            ],
            "text/plain": [
              "        userId  movieId  rating   timestamp\n",
              "0            1        1     4.0   964982703\n",
              "1            1        3     4.0   964981247\n",
              "2            1        6     4.0   964982224\n",
              "3            1       47     5.0   964983815\n",
              "4            1       50     5.0   964982931\n",
              "...        ...      ...     ...         ...\n",
              "100831     610   166534     4.0  1493848402\n",
              "100832     610   168248     5.0  1493850091\n",
              "100833     610   168250     5.0  1494273047\n",
              "100834     610   168252     5.0  1493846352\n",
              "100835     610   170875     3.0  1493846415\n",
              "\n",
              "[100836 rows x 4 columns]"
            ]
          },
          "execution_count": 25,
          "metadata": {},
          "output_type": "execute_result"
        }
      ],
      "source": [
        "# ratings table\n",
        "pd.read_csv(rating_path)"
      ]
    },
    {
      "cell_type": "markdown",
      "metadata": {
        "id": "t_PoqAk-ciio"
      },
      "source": [
        "### Optional: Shrink data so colab would be able to fit it in memory"
      ]
    },
    {
      "cell_type": "code",
      "execution_count": null,
      "metadata": {
        "id": "v9C8A-5BayU0"
      },
      "outputs": [],
      "source": [
        "# make the dataset smaller\n",
        "df_movie = pd.read_csv(movie_path)\n",
        "df_movie = df_movie.iloc[1:100,]\n",
        "df_movie.to_csv('movies.csv',index=None)"
      ]
    },
    {
      "cell_type": "code",
      "execution_count": null,
      "metadata": {
        "id": "nd3qFs5vbHDr"
      },
      "outputs": [],
      "source": [
        "df_rating = pd.read_csv(rating_path)\n",
        "df_rating = df_rating[df_rating['movieId'].isin(df_movie['movieId'])]\n",
        "df_rating.to_csv('ratings.csv',index=None)"
      ]
    },
    {
      "cell_type": "markdown",
      "metadata": {
        "id": "1WLIYGYw6cbG"
      },
      "source": [
        "### A function to read and create **movie attribute** vectors"
      ]
    },
    {
      "cell_type": "code",
      "execution_count": null,
      "metadata": {
        "id": "1RcmPGRGkxxF"
      },
      "outputs": [],
      "source": [
        "import torch\n",
        "import pandas as pd\n",
        "\n",
        "def load_node_csv(path, index_col, encoders=None, **kwargs):\n",
        "    df = pd.read_csv(path, index_col=index_col, **kwargs)\n",
        "    mapping = {index: i for i, index in enumerate(df.index.unique())} # mapes nodes to indices\n",
        "\n",
        "    x = None\n",
        "    if encoders is not None:\n",
        "        xs = [encoder(df[col]) for col, encoder in encoders.items()]   # concatinate senstece-encoders and genre encoders into a single vector\n",
        "        x = torch.cat(xs, dim=-1)\n",
        "\n",
        "    return x, mapping"
      ]
    },
    {
      "cell_type": "markdown",
      "metadata": {
        "id": "IC7FvyxQpTSc"
      },
      "source": [
        "We will use user SentenceTransformers to represent movie titles as embedding vectors in a tensor of shape ``[num_titles, embedding_dim]``"
      ]
    },
    {
      "cell_type": "code",
      "execution_count": null,
      "metadata": {
        "id": "Ctbp3o4DpfHv"
      },
      "outputs": [],
      "source": [
        "from sentence_transformers import SentenceTransformer\n",
        "\n",
        "class SequenceEncoder(object):\n",
        "    def __init__(self, model_name='all-MiniLM-L6-v2', device=None): # maps sentences & paragraphs to a 384 dimensional dense vector space\n",
        "        self.device = device\n",
        "        self.model = SentenceTransformer(model_name, device=device)\n",
        "\n",
        "    @torch.no_grad()\n",
        "    def __call__(self, df):\n",
        "        x = self.model.encode(df.values, show_progress_bar=True,\n",
        "                              convert_to_tensor=True, device=self.device)\n",
        "        return x.cpu()"
      ]
    },
    {
      "cell_type": "markdown",
      "metadata": {
        "id": "GUUogP2_rD5n"
      },
      "source": [
        "An encoder that converts genres of movies into categorical labels. \n",
        "\n",
        "1. Find all genres in the data\n",
        "2. Create a tensor ``x`` of shape ``[num_movies, num_genres]``\n",
        "3. Assign a ``1`` to ``x[i, j]`` in case the genre ``j`` is present in movie ``i`` (similar to hot encodings)."
      ]
    },
    {
      "cell_type": "code",
      "execution_count": null,
      "metadata": {
        "id": "pdRjCZ_irECe"
      },
      "outputs": [],
      "source": [
        "class GenresEncoder(object):\n",
        "    def __init__(self, sep='|'):\n",
        "        self.sep = sep\n",
        "\n",
        "    def __call__(self, df):\n",
        "        genres = set(g for col in df.values for g in col.split(self.sep))\n",
        "        mapping = {genre: i for i, genre in enumerate(genres)}\n",
        "\n",
        "        x = torch.zeros(len(df), len(mapping))\n",
        "        for i, col in enumerate(df.values):\n",
        "            for genre in col.split(self.sep):\n",
        "                x[i, mapping[genre]] = 1\n",
        "        return x"
      ]
    },
    {
      "cell_type": "markdown",
      "metadata": {
        "id": "ki4rteeItqe6"
      },
      "source": [
        "**Create movie representation**"
      ]
    },
    {
      "cell_type": "code",
      "execution_count": null,
      "metadata": {
        "colab": {
          "base_uri": "https://localhost:8080/",
          "height": 497
        },
        "id": "T3uxESrLtsI6",
        "outputId": "9e3dacd7-831b-425b-b92d-535ad632d07b"
      },
      "outputs": [
        {
          "data": {
            "application/vnd.jupyter.widget-view+json": {
              "model_id": "6faff22704e24823a0288c7f0081fc74",
              "version_major": 2,
              "version_minor": 0
            },
            "text/plain": [
              "Downloading:   0%|          | 0.00/1.18k [00:00<?, ?B/s]"
            ]
          },
          "metadata": {},
          "output_type": "display_data"
        },
        {
          "data": {
            "application/vnd.jupyter.widget-view+json": {
              "model_id": "4e307d8f906a4c44acdab31bde1f2db8",
              "version_major": 2,
              "version_minor": 0
            },
            "text/plain": [
              "Downloading:   0%|          | 0.00/190 [00:00<?, ?B/s]"
            ]
          },
          "metadata": {},
          "output_type": "display_data"
        },
        {
          "data": {
            "application/vnd.jupyter.widget-view+json": {
              "model_id": "8bd354ec42a84823bb928f6f2bb7fef5",
              "version_major": 2,
              "version_minor": 0
            },
            "text/plain": [
              "Downloading:   0%|          | 0.00/10.6k [00:00<?, ?B/s]"
            ]
          },
          "metadata": {},
          "output_type": "display_data"
        },
        {
          "data": {
            "application/vnd.jupyter.widget-view+json": {
              "model_id": "0d78426b9cfd46e69b6ea6ef125fc222",
              "version_major": 2,
              "version_minor": 0
            },
            "text/plain": [
              "Downloading:   0%|          | 0.00/612 [00:00<?, ?B/s]"
            ]
          },
          "metadata": {},
          "output_type": "display_data"
        },
        {
          "data": {
            "application/vnd.jupyter.widget-view+json": {
              "model_id": "39145561d56c4c208ac33404e52bab08",
              "version_major": 2,
              "version_minor": 0
            },
            "text/plain": [
              "Downloading:   0%|          | 0.00/116 [00:00<?, ?B/s]"
            ]
          },
          "metadata": {},
          "output_type": "display_data"
        },
        {
          "data": {
            "application/vnd.jupyter.widget-view+json": {
              "model_id": "65901be3f30f43fcae838b858b5e1655",
              "version_major": 2,
              "version_minor": 0
            },
            "text/plain": [
              "Downloading:   0%|          | 0.00/39.3k [00:00<?, ?B/s]"
            ]
          },
          "metadata": {},
          "output_type": "display_data"
        },
        {
          "data": {
            "application/vnd.jupyter.widget-view+json": {
              "model_id": "775f1e4667834f849eae93a153942dd8",
              "version_major": 2,
              "version_minor": 0
            },
            "text/plain": [
              "Downloading:   0%|          | 0.00/90.9M [00:00<?, ?B/s]"
            ]
          },
          "metadata": {},
          "output_type": "display_data"
        },
        {
          "data": {
            "application/vnd.jupyter.widget-view+json": {
              "model_id": "ebc627dc356649f5a2f1bde4394d069f",
              "version_major": 2,
              "version_minor": 0
            },
            "text/plain": [
              "Downloading:   0%|          | 0.00/53.0 [00:00<?, ?B/s]"
            ]
          },
          "metadata": {},
          "output_type": "display_data"
        },
        {
          "data": {
            "application/vnd.jupyter.widget-view+json": {
              "model_id": "536f561264fa46fab35b5aced63797bd",
              "version_major": 2,
              "version_minor": 0
            },
            "text/plain": [
              "Downloading:   0%|          | 0.00/112 [00:00<?, ?B/s]"
            ]
          },
          "metadata": {},
          "output_type": "display_data"
        },
        {
          "data": {
            "application/vnd.jupyter.widget-view+json": {
              "model_id": "efcf9ae2bc1e41afaa9f82db6ecbbd0e",
              "version_major": 2,
              "version_minor": 0
            },
            "text/plain": [
              "Downloading:   0%|          | 0.00/466k [00:00<?, ?B/s]"
            ]
          },
          "metadata": {},
          "output_type": "display_data"
        },
        {
          "data": {
            "application/vnd.jupyter.widget-view+json": {
              "model_id": "32a28c5fc8a04ae5912143be57f0d6d4",
              "version_major": 2,
              "version_minor": 0
            },
            "text/plain": [
              "Downloading:   0%|          | 0.00/350 [00:00<?, ?B/s]"
            ]
          },
          "metadata": {},
          "output_type": "display_data"
        },
        {
          "data": {
            "application/vnd.jupyter.widget-view+json": {
              "model_id": "4de81290341b46a09083aa0e73b4498c",
              "version_major": 2,
              "version_minor": 0
            },
            "text/plain": [
              "Downloading:   0%|          | 0.00/13.2k [00:00<?, ?B/s]"
            ]
          },
          "metadata": {},
          "output_type": "display_data"
        },
        {
          "data": {
            "application/vnd.jupyter.widget-view+json": {
              "model_id": "eb006afbaeaa498b8e2c9642edc25ca0",
              "version_major": 2,
              "version_minor": 0
            },
            "text/plain": [
              "Downloading:   0%|          | 0.00/232k [00:00<?, ?B/s]"
            ]
          },
          "metadata": {},
          "output_type": "display_data"
        },
        {
          "data": {
            "application/vnd.jupyter.widget-view+json": {
              "model_id": "14e6cf4484f9406fb934e43728a2470c",
              "version_major": 2,
              "version_minor": 0
            },
            "text/plain": [
              "Downloading:   0%|          | 0.00/349 [00:00<?, ?B/s]"
            ]
          },
          "metadata": {},
          "output_type": "display_data"
        },
        {
          "data": {
            "application/vnd.jupyter.widget-view+json": {
              "model_id": "6d52648a3d5444478118a14478f2e999",
              "version_major": 2,
              "version_minor": 0
            },
            "text/plain": [
              "Batches:   0%|          | 0/305 [00:00<?, ?it/s]"
            ]
          },
          "metadata": {},
          "output_type": "display_data"
        }
      ],
      "source": [
        "movie_x, movie_mapping = load_node_csv(\n",
        "    movie_path, index_col='movieId', \n",
        "    encoders={\n",
        "        'title': SequenceEncoder(),\n",
        "        'genres': GenresEncoder()\n",
        "    }\n",
        "  )"
      ]
    },
    {
      "cell_type": "code",
      "execution_count": null,
      "metadata": {
        "colab": {
          "base_uri": "https://localhost:8080/"
        },
        "id": "vZFvfIfYvbWZ",
        "outputId": "173ce041-24e2-490c-d675-6cccde7484c2"
      },
      "outputs": [
        {
          "data": {
            "text/plain": [
              "torch.Size([9742, 404])"
            ]
          },
          "execution_count": 32,
          "metadata": {},
          "output_type": "execute_result"
        }
      ],
      "source": [
        "movie_x.shape # we have 9742 movies (titles) each with 384 sentence-transformers embeddings + 20 unique genres = 404 dim"
      ]
    },
    {
      "cell_type": "markdown",
      "metadata": {
        "id": "zHNJ63gW6QDm"
      },
      "source": [
        "**Creating User Attribute**\n",
        "\n",
        "We use ``load_node_csv()`` to map users from ``userId`` to consecutive values.\n",
        "\n",
        "No feature information for users, so we do not define encoders, only 1-hot emcoding tensor for users"
      ]
    },
    {
      "cell_type": "code",
      "execution_count": null,
      "metadata": {
        "id": "fbscFCmT6QvR"
      },
      "outputs": [],
      "source": [
        "_, user_mapping = load_node_csv(rating_path, index_col='userId')"
      ]
    },
    {
      "cell_type": "code",
      "execution_count": null,
      "metadata": {
        "colab": {
          "base_uri": "https://localhost:8080/"
        },
        "id": "2vt8Il15A-3p",
        "outputId": "6dd29888-c7c8-4231-ed0e-cf51f0ae8be5"
      },
      "outputs": [
        {
          "data": {
            "text/plain": [
              "610"
            ]
          },
          "execution_count": 34,
          "metadata": {},
          "output_type": "execute_result"
        }
      ],
      "source": [
        "len(user_mapping)"
      ]
    },
    {
      "cell_type": "markdown",
      "metadata": {
        "id": "b-8dOm-TCL4M"
      },
      "source": [
        "**Edge Encoding (attributes)**: connect users--movies using their ratings.\n",
        "\n",
        "``load_edge_csv()`` returns the final ``edge_index`` representation of shape ``[2, num_ratings]`` from ``ratings.csv``, as well as any additional features present in the raw ``*.csv`` file"
      ]
    },
    {
      "cell_type": "code",
      "execution_count": null,
      "metadata": {
        "id": "D_mAzARnDSKf"
      },
      "outputs": [],
      "source": [
        "def load_edge_csv(path, src_index_col, src_mapping, dst_index_col, dst_mapping,\n",
        "                  encoders=None, **kwargs):\n",
        "    df = pd.read_csv(path, **kwargs)\n",
        "\n",
        "    src = [src_mapping[index] for index in df[src_index_col]] # userId\n",
        "    dst = [dst_mapping[index] for index in df[dst_index_col]] # movieId\n",
        "    edge_index = torch.tensor([src, dst])\n",
        "\n",
        "    edge_attr = None\n",
        "    if encoders is not None:\n",
        "        edge_attrs = [encoder(df[col]) for col, encoder in encoders.items()]\n",
        "        edge_attr = torch.cat(edge_attrs, dim=-1)\n",
        "\n",
        "    return edge_index, edge_attr"
      ]
    },
    {
      "cell_type": "markdown",
      "metadata": {
        "id": "7EsD5DRLEkti"
      },
      "source": [
        "We define encoders to return additional edge-level feature information. \n",
        "\n",
        "For loading ratings in ``ratings.csv``, we define a functions (``IdentityEncoder``) that simply converts star rating into a tensor"
      ]
    },
    {
      "cell_type": "code",
      "execution_count": null,
      "metadata": {
        "id": "h2LyOK54DXYD"
      },
      "outputs": [],
      "source": [
        "class IdentityEncoder(object):\n",
        "    def __init__(self, dtype=None):\n",
        "        self.dtype = dtype\n",
        "\n",
        "    def __call__(self, df):\n",
        "        return torch.from_numpy(df.values).view(-1, 1).to(self.dtype)"
      ]
    },
    {
      "cell_type": "markdown",
      "metadata": {
        "id": "MgdGqd-YGGte"
      },
      "source": [
        "Finalize the ``HeteroData`` object"
      ]
    },
    {
      "cell_type": "code",
      "execution_count": null,
      "metadata": {
        "id": "bhmhjJSbFwRz"
      },
      "outputs": [],
      "source": [
        "edge_index, edge_label = load_edge_csv(\n",
        "    rating_path,\n",
        "    src_index_col='userId',\n",
        "    src_mapping=user_mapping,\n",
        "    dst_index_col='movieId',\n",
        "    dst_mapping=movie_mapping,\n",
        "    encoders={'rating': IdentityEncoder(dtype=torch.long)},\n",
        ")"
      ]
    },
    {
      "cell_type": "markdown",
      "metadata": {
        "id": "tm8Brig2AOBy"
      },
      "source": [
        "Now, we can build a heterogeneous pyG graph where different types of nodes contain different features.\n",
        "\n",
        "Create a heterogeniuse graph (``HeteroData``) object with 2 node types\n",
        "\n",
        "``users`` do not have features -->  we use 1-hote encoding of their index.\n",
        "\n",
        "``movies`` have embeddings made of concatination of sentence-transformers and genre class embeddings"
      ]
    },
    {
      "cell_type": "code",
      "execution_count": null,
      "metadata": {
        "colab": {
          "base_uri": "https://localhost:8080/"
        },
        "id": "N0czYgdGMkgG",
        "outputId": "1113a689-e139-4eb1-cb88-1fd07c0cb1a9"
      },
      "outputs": [
        {
          "data": {
            "text/plain": [
              "HeteroData(\n",
              "  \u001b[1muser\u001b[0m={ x=[610, 610] },\n",
              "  \u001b[1mmovie\u001b[0m={ x=[9742, 404] },\n",
              "  \u001b[1m(user, rates, movie)\u001b[0m={\n",
              "    edge_index=[2, 100836],\n",
              "    edge_label=[100836, 1]\n",
              "  }\n",
              ")"
            ]
          },
          "execution_count": 38,
          "metadata": {},
          "output_type": "execute_result"
        }
      ],
      "source": [
        "from torch_geometric.data import HeteroData\n",
        "\n",
        "data = HeteroData()\n",
        "\n",
        "# Add user node features for message passing:\n",
        "data['user'].x = torch.eye(len(user_mapping), device=device)\n",
        "\n",
        "# Add movie node features\n",
        "data['movie'].x = movie_x\n",
        "\n",
        "# Add ratings between users and movies\n",
        "data['user', 'rates', 'movie'].edge_index = edge_index\n",
        "data['user', 'rates', 'movie'].edge_label = edge_label\n",
        "\n",
        "# if you use GPU --> tansfer data object to GPU.\n",
        "device = torch.device('cuda')\n",
        "data = data.to(device)\n",
        "\n",
        "data.to(device, non_blocking=True)"
      ]
    },
    {
      "cell_type": "markdown",
      "metadata": {
        "id": "vo3z9waVLfYH"
      },
      "source": [
        "Convert `data` into an appropriate format for training a\n",
        "graph-based machine learning model\n"
      ]
    },
    {
      "cell_type": "code",
      "execution_count": null,
      "metadata": {
        "colab": {
          "base_uri": "https://localhost:8080/"
        },
        "id": "sQD-dNuq0uy1",
        "outputId": "3f434ebd-7f10-4d11-f713-b54677ae16c7"
      },
      "outputs": [
        {
          "name": "stdout",
          "output_type": "stream",
          "text": [
            "HeteroData(\n",
            "  \u001b[1muser\u001b[0m={ x=[610, 610] },\n",
            "  \u001b[1mmovie\u001b[0m={ x=[9742, 404] },\n",
            "  \u001b[1m(user, rates, movie)\u001b[0m={\n",
            "    edge_index=[2, 100836],\n",
            "    edge_label=[100836, 1]\n",
            "  },\n",
            "  \u001b[1m(movie, rev_rates, user)\u001b[0m={ edge_index=[2, 100836] }\n",
            ")\n"
          ]
        }
      ],
      "source": [
        "from torch_geometric.transforms import ToUndirected, RandomLinkSplit\n",
        "\n",
        "# 1. Add a reverse ('movie', 'rev_rates', 'user') relation for message passing.\n",
        "data = ToUndirected()(data)\n",
        "del data['movie', 'rev_rates', 'user'].edge_label  # Remove \"reverse\" label. # https://pytorch-geometric.readthedocs.io/en/latest/modules/transforms.html\n",
        "\n",
        "print(data)"
      ]
    },
    {
      "cell_type": "code",
      "execution_count": null,
      "metadata": {
        "colab": {
          "base_uri": "https://localhost:8080/"
        },
        "id": "8CIhfQyxLetP",
        "outputId": "6e46abdf-fb96-43af-ad66-902b35af1687"
      },
      "outputs": [
        {
          "name": "stdout",
          "output_type": "stream",
          "text": [
            "train HeteroData(\n",
            "  \u001b[1muser\u001b[0m={ x=[610, 610] },\n",
            "  \u001b[1mmovie\u001b[0m={ x=[9742, 404] },\n",
            "  \u001b[1m(user, rates, movie)\u001b[0m={\n",
            "    edge_index=[2, 85712],\n",
            "    edge_label=[85712, 1],\n",
            "    edge_label_index=[2, 85712]\n",
            "  },\n",
            "  \u001b[1m(movie, rev_rates, user)\u001b[0m={ edge_index=[2, 85712] }\n",
            ")\n",
            "val HeteroData(\n",
            "  \u001b[1muser\u001b[0m={ x=[610, 610] },\n",
            "  \u001b[1mmovie\u001b[0m={ x=[9742, 404] },\n",
            "  \u001b[1m(user, rates, movie)\u001b[0m={\n",
            "    edge_index=[2, 85712],\n",
            "    edge_label=[5041, 1],\n",
            "    edge_label_index=[2, 5041]\n",
            "  },\n",
            "  \u001b[1m(movie, rev_rates, user)\u001b[0m={ edge_index=[2, 85712] }\n",
            ")\n",
            "test HeteroData(\n",
            "  \u001b[1muser\u001b[0m={ x=[610, 610] },\n",
            "  \u001b[1mmovie\u001b[0m={ x=[9742, 404] },\n",
            "  \u001b[1m(user, rates, movie)\u001b[0m={\n",
            "    edge_index=[2, 90753],\n",
            "    edge_label=[10083, 1],\n",
            "    edge_label_index=[2, 10083]\n",
            "  },\n",
            "  \u001b[1m(movie, rev_rates, user)\u001b[0m={ edge_index=[2, 90753] }\n",
            ")\n"
          ]
        }
      ],
      "source": [
        "# 2. Perform a link-level split into training, validation, and test edges.\n",
        "transform = RandomLinkSplit(\n",
        "    num_val=0.05,\n",
        "    num_test=0.1,\n",
        "    neg_sampling_ratio=0.0,\n",
        "    edge_types=[('user', 'rates', 'movie')],\n",
        "    rev_edge_types=[('movie', 'rev_rates', 'user')],\n",
        ")\n",
        "\n",
        "train_data, val_data, test_data = transform(data)\n",
        "\n",
        "# edge_label_index are the mask indices for train, validation, and test\n",
        "print(\"train\", train_data)\n",
        "print(\"val\", val_data)\n",
        "print(\"test\", test_data)"
      ]
    },
    {
      "cell_type": "markdown",
      "metadata": {
        "id": "U8a7Po5nO9OL"
      },
      "source": [
        "The pyG graph is ready.\n",
        "\n",
        "Next, we will define a GNN that will predict ratings between 0 and 5 of movies by users.\n",
        "\n",
        "Link prediction -- predict the relationship property (star rating) of a new user-movie link."
      ]
    },
    {
      "cell_type": "code",
      "execution_count": null,
      "metadata": {
        "id": "usKewPrztSzb"
      },
      "outputs": [],
      "source": [
        "# Define the GNN\n",
        "\n",
        "class GNNEncoder(torch.nn.Module):\n",
        "    def __init__(self, hidden_channels, out_channels):\n",
        "        super().__init__()\n",
        "        self.conv1 = SAGEConv((-1, -1), hidden_channels)\n",
        "        self.conv2 = SAGEConv((-1, -1), out_channels)\n",
        "\n",
        "    def forward(self, x, edge_index):\n",
        "        x = self.conv1(x, edge_index).relu()\n",
        "        x = self.conv2(x, edge_index)\n",
        "        return x\n",
        "\n",
        "\n",
        "class EdgeDecoder(torch.nn.Module):\n",
        "    def __init__(self, hidden_channels):\n",
        "        super().__init__()\n",
        "        self.lin1 = Linear(2 * hidden_channels, hidden_channels)\n",
        "        self.lin2 = Linear(hidden_channels, 1)\n",
        "\n",
        "    def forward(self, z_dict, edge_label_index):\n",
        "        row, col = edge_label_index\n",
        "        z = torch.cat([z_dict['user'][row], z_dict['movie'][col]], dim=-1)\n",
        "\n",
        "        z = self.lin1(z).relu()\n",
        "        z = self.lin2(z)\n",
        "        return z.view(-1)\n",
        "\n",
        "class Model(torch.nn.Module):\n",
        "    def __init__(self, hidden_channels):\n",
        "        super().__init__()\n",
        "        self.encoder = GNNEncoder(hidden_channels, hidden_channels)\n",
        "        self.encoder = to_hetero(self.encoder, data.metadata(), aggr='sum')\n",
        "        self.decoder = EdgeDecoder(hidden_channels)\n",
        "\n",
        "    def forward(self, x_dict, edge_index_dict, edge_label_index):\n",
        "        z_dict = self.encoder(x_dict, edge_index_dict)\n",
        "        return self.decoder(z_dict, edge_label_index)"
      ]
    },
    {
      "cell_type": "code",
      "execution_count": null,
      "metadata": {
        "id": "b1Ahgzek6cFj"
      },
      "outputs": [],
      "source": [
        "weight = torch.bincount(torch.flatten(train_data['user', 'movie'].edge_label)) # counts the occurrence of each element\n",
        "weight = weight.max() / weight\n",
        "\n",
        "def weighted_mse_loss(pred, target, weight=None):\n",
        "    weight = 1. if weight is None else weight[target].to(pred.dtype)\n",
        "    return (weight * (pred - target.to(pred.dtype)).pow(2)).mean()"
      ]
    },
    {
      "cell_type": "code",
      "execution_count": null,
      "metadata": {
        "id": "SwcKZ0Z58TC0"
      },
      "outputs": [],
      "source": [
        "import torch_geometric.transforms as T\n",
        "from torch_geometric.nn import SAGEConv, to_hetero\n",
        "from torch.nn import Linear\n",
        "model = Model(hidden_channels=64).to(device)"
      ]
    },
    {
      "cell_type": "code",
      "execution_count": null,
      "metadata": {
        "id": "0VR7D0NC9AoM"
      },
      "outputs": [],
      "source": [
        "# Due to lazy initialization, we need to run one model step so the number\n",
        "# of parameters can be inferred:\n",
        "with torch.no_grad():\n",
        "    model.encoder(train_data.x_dict, train_data.edge_index_dict)\n",
        "\n",
        "optimizer = torch.optim.Adam(model.parameters(), lr=0.01)"
      ]
    },
    {
      "cell_type": "code",
      "execution_count": null,
      "metadata": {
        "id": "90o86Kzx9FdC"
      },
      "outputs": [],
      "source": [
        "def train():\n",
        "  model.train()\n",
        "  optimizer.zero_grad()\n",
        "  pred = model(train_data.x_dict, train_data.edge_index_dict,\n",
        "                train_data['user', 'rates', 'movie'].edge_label_index)\n",
        "  target = train_data['user', 'rates', 'movie'].edge_label\n",
        "  loss = weighted_mse_loss(pred, target, weight)\n",
        "  loss.backward()\n",
        "  optimizer.step()\n",
        "  return float(loss)"
      ]
    },
    {
      "cell_type": "code",
      "execution_count": null,
      "metadata": {
        "colab": {
          "base_uri": "https://localhost:8080/",
          "height": 148
        },
        "id": "Ll2cg6auccK_",
        "outputId": "18aed81d-2a20-477d-8857-402a94842c43"
      },
      "outputs": [
        {
          "ename": "SyntaxError",
          "evalue": "ignored",
          "output_type": "error",
          "traceback": [
            "\u001b[0;36m  File \u001b[0;32m\"<ipython-input-47-a23ef3db6794>\"\u001b[0;36m, line \u001b[0;32m23\u001b[0m\n\u001b[0;31m    # https://colab.research.google.com/drive/1I8a0DfQ3fI7Njc62__mVXUlcAleUclnb?usp=sharing#scrollTo=HvhgQoO8Svw4\u001b[0m\n\u001b[0m                                                                                                                 \n^\u001b[0m\n\u001b[0;31mSyntaxError\u001b[0m\u001b[0;31m:\u001b[0m EOF while scanning triple-quoted string literal\n"
          ]
        }
      ],
      "source": [
        "# Mini batch training\n",
        "\n",
        "# https://towardsdatascience.com/hands-on-graph-neural-networks-with-pytorch-pytorch-geometric-359487e221a8\n",
        "'''\n",
        "def train():\n",
        "    loss_all = 0\n",
        "    model.train()\n",
        "    for data in train_loader:\n",
        "      data = data.to(device)\n",
        "      optimizer.zero_grad()  # Clear gradients.\n",
        "      pred = model(data.x_dict, dt.edge_index_dict,\n",
        "                  data['user', 'rates', 'movie'].edge_label_index, data.batch)\n",
        "      target = data['user', 'rates', 'movie'].edge_label.to(device)\n",
        "      weight_batch = torch.bincount(torch.flatten(data['user', 'movie'].edge_label)) # counts the occurrence of each element\n",
        "      weight_batch = weight.max() / weight_batch\n",
        "      loss = weighted_mse_loss(pred, target, weight_batch)\n",
        "      loss.backward()\n",
        "      loss_all += data.num_graphs * loss.item()\n",
        "      optimizer.step()\n",
        "    return loss_all / len(train_data)\n",
        "\n",
        "\n",
        "# https://colab.research.google.com/drive/1I8a0DfQ3fI7Njc62__mVXUlcAleUclnb?usp=sharing#scrollTo=HvhgQoO8Svw4"
      ]
    },
    {
      "cell_type": "code",
      "execution_count": null,
      "metadata": {
        "id": "fk-pDhc99I2D"
      },
      "outputs": [],
      "source": [
        "@torch.no_grad()\n",
        "def test(data):\n",
        "    model.eval()\n",
        "    pred = model(dt.x_dict, df.edge_index_dict,\n",
        "                df['user', 'rates', 'movie'].edge_label_index)\n",
        "    pred = pred.clamp(min=0, max=5)\n",
        "    target = df['user', 'rates', 'movie'].edge_label.float()\n",
        "    rmse = F.mse_loss(pred, target).sqrt()\n",
        "    return float(rmse)"
      ]
    },
    {
      "cell_type": "code",
      "execution_count": null,
      "metadata": {
        "id": "aNsQXIlS9LCa"
      },
      "outputs": [],
      "source": [
        "import torch\n",
        "import torch.nn.functional as F\n",
        "from torch_geometric.nn import GCNConv\n",
        "from torch_geometric.loader import DataLoader\n",
        "\n",
        "    \n",
        "device = torch.device('cuda')\n",
        "\n",
        "train_loader = DataLoader(train_data, batch_size=16, shuffle=True)\n",
        "\n",
        "for epoch in range(1, 50):\n",
        "    loss = train()\n",
        "    train_rmse = test(train_data)\n",
        "    val_rmse = test(val_data)\n",
        "    test_rmse = test(test_data)\n",
        "    print(f'Epoch: {epoch:03d}, Loss: {loss:.4f}, Train: {train_rmse:.4f}, '\n",
        "          f'Val: {val_rmse:.4f}, Test: {test_rmse:.4f}')"
      ]
    },
    {
      "cell_type": "markdown",
      "metadata": {
        "id": "KdA2NqZU9SOG"
      },
      "source": [
        "Predict new links between users and movies.\n",
        "\n",
        "We will only consider links where the predicted rating is equal to 5.0."
      ]
    },
    {
      "cell_type": "code",
      "execution_count": null,
      "metadata": {
        "id": "EB6UDcBx9RkK"
      },
      "outputs": [],
      "source": [
        "num_movies = len(movie_mapping)\n",
        "num_users = len(user_mapping)\n",
        "\n",
        "reverse_movie_mapping = dict(zip(movie_mapping.values(),movie_mapping.keys()))\n",
        "reverse_user_mapping = dict(zip(user_mapping.values(),user_mapping.keys()))\n",
        "\n",
        "results = []\n",
        "\n",
        "for user_id in range(0,num_users): \n",
        "\n",
        "    row = torch.tensor([user_id] * num_movies)\n",
        "    col = torch.arange(num_movies)\n",
        "    edge_label_index = torch.stack([row, col], dim=0)\n",
        "\n",
        "    pred = model(data.x_dict, data.edge_index_dict,\n",
        "                 edge_label_index)\n",
        "    pred = pred.clamp(min=0, max=5)\n",
        "\n",
        "    user_neo4j_id = reverse_user_mapping[user_id]\n",
        "\n",
        "    mask = (pred == 5).nonzero(as_tuple=True)\n",
        "\n",
        "    ten_predictions = [reverse_movie_mapping[el] for el in  mask[0].tolist()[:10]] # select 10 recommendations for each user\n",
        "    results.append({'user': user_neo4j_id, 'movies': ten_predictions})\n",
        "    "
      ]
    },
    {
      "cell_type": "code",
      "execution_count": null,
      "metadata": {
        "id": "yHJlX1KVirmU"
      },
      "outputs": [],
      "source": [
        "results"
      ]
    },
    {
      "cell_type": "markdown",
      "metadata": {
        "id": "mRI1CVgg97oN"
      },
      "source": [
        "Note: we did not filter out existing links or ratings during predictions."
      ]
    }
  ],
  "metadata": {
    "accelerator": "GPU",
    "colab": {
      "collapsed_sections": [
        "hnEg9G3H_d4t"
      ],
      "machine_shape": "hm",
      "name": "Copy of Lab1",
      "provenance": [],
      "include_colab_link": true
    },
    "kernelspec": {
      "display_name": "Python 3",
      "language": "python",
      "name": "python3"
    },
    "language_info": {
      "codemirror_mode": {
        "name": "ipython",
        "version": 3
      },
      "file_extension": ".py",
      "mimetype": "text/x-python",
      "name": "python",
      "nbconvert_exporter": "python",
      "pygments_lexer": "ipython3",
      "version": "3.7.3"
    }
  },
  "nbformat": 4,
  "nbformat_minor": 0
}